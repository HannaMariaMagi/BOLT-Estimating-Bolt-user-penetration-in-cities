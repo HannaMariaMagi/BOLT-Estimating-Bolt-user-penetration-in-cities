{
 "cells": [
  {
   "cell_type": "code",
   "execution_count": 1,
   "metadata": {},
   "outputs": [],
   "source": [
    "import pandas as pd\n",
    "import geopandas\n",
    "import matplotlib.pyplot as plt"
   ]
  },
  {
   "cell_type": "code",
   "execution_count": 2,
   "metadata": {},
   "outputs": [
    {
     "name": "stdout",
     "output_type": "stream",
     "text": [
      "Requirement already satisfied: matplotlib in c:\\users\\anne\\anaconda3\\envs\\bolt\\lib\\site-packages (3.3.3)\n",
      "Requirement already satisfied: python-dateutil>=2.1 in c:\\users\\anne\\anaconda3\\envs\\bolt\\lib\\site-packages (from matplotlib) (2.8.1)\n",
      "Requirement already satisfied: pillow>=6.2.0 in c:\\users\\anne\\anaconda3\\envs\\bolt\\lib\\site-packages (from matplotlib) (8.0.1)\n",
      "Requirement already satisfied: numpy>=1.15 in c:\\users\\anne\\anaconda3\\envs\\bolt\\lib\\site-packages (from matplotlib) (1.19.4)\n",
      "Requirement already satisfied: cycler>=0.10 in c:\\users\\anne\\anaconda3\\envs\\bolt\\lib\\site-packages (from matplotlib) (0.10.0)\n",
      "Requirement already satisfied: pyparsing!=2.0.4,!=2.1.2,!=2.1.6,>=2.0.3 in c:\\users\\anne\\anaconda3\\envs\\bolt\\lib\\site-packages (from matplotlib) (2.4.7)\n",
      "Requirement already satisfied: kiwisolver>=1.0.1 in c:\\users\\anne\\anaconda3\\envs\\bolt\\lib\\site-packages (from matplotlib) (1.3.1)\n",
      "Requirement already satisfied: six>=1.5 in c:\\users\\anne\\anaconda3\\envs\\bolt\\lib\\site-packages (from python-dateutil>=2.1->matplotlib) (1.15.0)\n"
     ]
    }
   ],
   "source": [
    "!pip install matplotlib"
   ]
  },
  {
   "cell_type": "code",
   "execution_count": 3,
   "metadata": {},
   "outputs": [
    {
     "name": "stdout",
     "output_type": "stream",
     "text": [
      "Requirement already satisfied: descartes in c:\\users\\anne\\anaconda3\\envs\\bolt\\lib\\site-packages (1.1.0)\n",
      "Requirement already satisfied: matplotlib in c:\\users\\anne\\anaconda3\\envs\\bolt\\lib\\site-packages (from descartes) (3.3.3)\n",
      "Requirement already satisfied: python-dateutil>=2.1 in c:\\users\\anne\\anaconda3\\envs\\bolt\\lib\\site-packages (from matplotlib->descartes) (2.8.1)\n",
      "Requirement already satisfied: numpy>=1.15 in c:\\users\\anne\\anaconda3\\envs\\bolt\\lib\\site-packages (from matplotlib->descartes) (1.19.4)\n",
      "Requirement already satisfied: cycler>=0.10 in c:\\users\\anne\\anaconda3\\envs\\bolt\\lib\\site-packages (from matplotlib->descartes) (0.10.0)\n",
      "Requirement already satisfied: pillow>=6.2.0 in c:\\users\\anne\\anaconda3\\envs\\bolt\\lib\\site-packages (from matplotlib->descartes) (8.0.1)\n",
      "Requirement already satisfied: pyparsing!=2.0.4,!=2.1.2,!=2.1.6,>=2.0.3 in c:\\users\\anne\\anaconda3\\envs\\bolt\\lib\\site-packages (from matplotlib->descartes) (2.4.7)\n",
      "Requirement already satisfied: kiwisolver>=1.0.1 in c:\\users\\anne\\anaconda3\\envs\\bolt\\lib\\site-packages (from matplotlib->descartes) (1.3.1)\n",
      "Requirement already satisfied: six>=1.5 in c:\\users\\anne\\anaconda3\\envs\\bolt\\lib\\site-packages (from python-dateutil>=2.1->matplotlib->descartes) (1.15.0)\n"
     ]
    }
   ],
   "source": [
    "!pip install descartes"
   ]
  },
  {
   "cell_type": "code",
   "execution_count": 4,
   "metadata": {},
   "outputs": [],
   "source": [
    "data =  pd.read_csv(\"Tartu_April_2019_UT_students.csv\", sep=',')\n",
    "linnaosad= geopandas.read_file(\"Linnaosad.shp\")"
   ]
  },
  {
   "cell_type": "code",
   "execution_count": 5,
   "metadata": {
    "scrolled": true
   },
   "outputs": [
    {
     "data": {
      "text/html": [
       "<div>\n",
       "<style scoped>\n",
       "    .dataframe tbody tr th:only-of-type {\n",
       "        vertical-align: middle;\n",
       "    }\n",
       "\n",
       "    .dataframe tbody tr th {\n",
       "        vertical-align: top;\n",
       "    }\n",
       "\n",
       "    .dataframe thead th {\n",
       "        text-align: right;\n",
       "    }\n",
       "</style>\n",
       "<table border=\"1\" class=\"dataframe\">\n",
       "  <thead>\n",
       "    <tr style=\"text-align: right;\">\n",
       "      <th></th>\n",
       "      <th>Unnamed: 0</th>\n",
       "      <th>pickup_lat</th>\n",
       "      <th>pickup_lng</th>\n",
       "      <th>destination_lat</th>\n",
       "      <th>destination_lng</th>\n",
       "      <th>real_destination_lat</th>\n",
       "      <th>real_destination_lng</th>\n",
       "      <th>finished</th>\n",
       "      <th>created</th>\n",
       "      <th>home_address_lat</th>\n",
       "      <th>home_address_lng</th>\n",
       "      <th>work_address_lat</th>\n",
       "      <th>work_address_lng</th>\n",
       "      <th>new_id</th>\n",
       "    </tr>\n",
       "  </thead>\n",
       "  <tbody>\n",
       "    <tr>\n",
       "      <th>0</th>\n",
       "      <td>0</td>\n",
       "      <td>58.390</td>\n",
       "      <td>26.727</td>\n",
       "      <td>58.378</td>\n",
       "      <td>26.711</td>\n",
       "      <td>58.378</td>\n",
       "      <td>26.711</td>\n",
       "      <td>1</td>\n",
       "      <td>2019-04-13 21:00:19</td>\n",
       "      <td>59.428</td>\n",
       "      <td>24.740</td>\n",
       "      <td>NaN</td>\n",
       "      <td>NaN</td>\n",
       "      <td>0</td>\n",
       "    </tr>\n",
       "    <tr>\n",
       "      <th>1</th>\n",
       "      <td>1</td>\n",
       "      <td>58.384</td>\n",
       "      <td>26.720</td>\n",
       "      <td>58.399</td>\n",
       "      <td>26.717</td>\n",
       "      <td>58.399</td>\n",
       "      <td>26.716</td>\n",
       "      <td>1</td>\n",
       "      <td>2019-04-02 22:05:44</td>\n",
       "      <td>58.399</td>\n",
       "      <td>26.717</td>\n",
       "      <td>NaN</td>\n",
       "      <td>NaN</td>\n",
       "      <td>1</td>\n",
       "    </tr>\n",
       "    <tr>\n",
       "      <th>2</th>\n",
       "      <td>2</td>\n",
       "      <td>58.349</td>\n",
       "      <td>26.793</td>\n",
       "      <td>58.375</td>\n",
       "      <td>26.692</td>\n",
       "      <td>58.375</td>\n",
       "      <td>26.692</td>\n",
       "      <td>1</td>\n",
       "      <td>2019-04-07 05:38:55</td>\n",
       "      <td>58.228</td>\n",
       "      <td>26.398</td>\n",
       "      <td>58.228</td>\n",
       "      <td>26.40</td>\n",
       "      <td>2</td>\n",
       "    </tr>\n",
       "    <tr>\n",
       "      <th>3</th>\n",
       "      <td>3</td>\n",
       "      <td>58.382</td>\n",
       "      <td>26.729</td>\n",
       "      <td>58.374</td>\n",
       "      <td>26.758</td>\n",
       "      <td>58.374</td>\n",
       "      <td>26.758</td>\n",
       "      <td>1</td>\n",
       "      <td>2019-04-22 18:41:55</td>\n",
       "      <td>NaN</td>\n",
       "      <td>NaN</td>\n",
       "      <td>NaN</td>\n",
       "      <td>NaN</td>\n",
       "      <td>3</td>\n",
       "    </tr>\n",
       "    <tr>\n",
       "      <th>4</th>\n",
       "      <td>4</td>\n",
       "      <td>58.384</td>\n",
       "      <td>26.757</td>\n",
       "      <td>58.378</td>\n",
       "      <td>26.685</td>\n",
       "      <td>58.378</td>\n",
       "      <td>26.685</td>\n",
       "      <td>1</td>\n",
       "      <td>2019-04-30 06:39:34</td>\n",
       "      <td>58.384</td>\n",
       "      <td>26.757</td>\n",
       "      <td>58.359</td>\n",
       "      <td>26.67</td>\n",
       "      <td>4</td>\n",
       "    </tr>\n",
       "  </tbody>\n",
       "</table>\n",
       "</div>"
      ],
      "text/plain": [
       "   Unnamed: 0  pickup_lat  pickup_lng  destination_lat  destination_lng  \\\n",
       "0           0      58.390      26.727           58.378           26.711   \n",
       "1           1      58.384      26.720           58.399           26.717   \n",
       "2           2      58.349      26.793           58.375           26.692   \n",
       "3           3      58.382      26.729           58.374           26.758   \n",
       "4           4      58.384      26.757           58.378           26.685   \n",
       "\n",
       "   real_destination_lat  real_destination_lng  finished              created  \\\n",
       "0                58.378                26.711         1  2019-04-13 21:00:19   \n",
       "1                58.399                26.716         1  2019-04-02 22:05:44   \n",
       "2                58.375                26.692         1  2019-04-07 05:38:55   \n",
       "3                58.374                26.758         1  2019-04-22 18:41:55   \n",
       "4                58.378                26.685         1  2019-04-30 06:39:34   \n",
       "\n",
       "   home_address_lat  home_address_lng  work_address_lat  work_address_lng  \\\n",
       "0            59.428            24.740               NaN               NaN   \n",
       "1            58.399            26.717               NaN               NaN   \n",
       "2            58.228            26.398            58.228             26.40   \n",
       "3               NaN               NaN               NaN               NaN   \n",
       "4            58.384            26.757            58.359             26.67   \n",
       "\n",
       "   new_id  \n",
       "0       0  \n",
       "1       1  \n",
       "2       2  \n",
       "3       3  \n",
       "4       4  "
      ]
     },
     "execution_count": 5,
     "metadata": {},
     "output_type": "execute_result"
    }
   ],
   "source": [
    "data.head()"
   ]
  },
  {
   "cell_type": "code",
   "execution_count": 6,
   "metadata": {},
   "outputs": [
    {
     "data": {
      "text/plain": [
       "<Projected CRS: EPSG:3301>\n",
       "Name: Estonian Coordinate System of 1997\n",
       "Axis Info [cartesian]:\n",
       "- X[north]: Northing (metre)\n",
       "- Y[east]: Easting (metre)\n",
       "Area of Use:\n",
       "- name: Estonia\n",
       "- bounds: (20.37, 57.52, 28.2, 60.0)\n",
       "Coordinate Operation:\n",
       "- name: Estonian National Grid\n",
       "- method: Lambert Conic Conformal (2SP)\n",
       "Datum: Estonia 1997\n",
       "- Ellipsoid: GRS 1980\n",
       "- Prime Meridian: Greenwich"
      ]
     },
     "execution_count": 6,
     "metadata": {},
     "output_type": "execute_result"
    }
   ],
   "source": [
    "linnaosad.crs #check coordinate system"
   ]
  },
  {
   "cell_type": "code",
   "execution_count": 7,
   "metadata": {},
   "outputs": [],
   "source": [
    "#select home address coordinates\n",
    "gdf_home = geopandas.GeoDataFrame(data, geometry=geopandas.points_from_xy(data.home_address_lng, data.home_address_lat)) "
   ]
  },
  {
   "cell_type": "code",
   "execution_count": 8,
   "metadata": {},
   "outputs": [
    {
     "data": {
      "text/plain": [
       "(65102, 15)"
      ]
     },
     "execution_count": 8,
     "metadata": {},
     "output_type": "execute_result"
    }
   ],
   "source": [
    "gdf_home.shape"
   ]
  },
  {
   "cell_type": "code",
   "execution_count": 9,
   "metadata": {},
   "outputs": [],
   "source": [
    "#convert Bolt data coordinates to match with Tartu map coordinate system\n",
    "gdf_home.set_crs(epsg=4326, inplace=True)\n",
    "gdf_home = gdf_home.to_crs(epsg=3301)"
   ]
  },
  {
   "cell_type": "code",
   "execution_count": 10,
   "metadata": {},
   "outputs": [
    {
     "data": {
      "text/plain": [
       "<Projected CRS: EPSG:3301>\n",
       "Name: Estonian Coordinate System of 1997\n",
       "Axis Info [cartesian]:\n",
       "- X[north]: Northing (metre)\n",
       "- Y[east]: Easting (metre)\n",
       "Area of Use:\n",
       "- name: Estonia\n",
       "- bounds: (20.37, 57.52, 28.2, 60.0)\n",
       "Coordinate Operation:\n",
       "- name: Estonian National Grid\n",
       "- method: Lambert Conic Conformal (2SP)\n",
       "Datum: Estonia 1997\n",
       "- Ellipsoid: GRS 1980\n",
       "- Prime Meridian: Greenwich"
      ]
     },
     "execution_count": 10,
     "metadata": {},
     "output_type": "execute_result"
    }
   ],
   "source": [
    "gdf_home.crs #check coordinate system"
   ]
  },
  {
   "cell_type": "code",
   "execution_count": 11,
   "metadata": {},
   "outputs": [],
   "source": [
    "#join Bolt data with map data\n",
    "join_home = geopandas.sjoin(gdf_home, linnaosad, how=\"left\", op=\"within\")"
   ]
  },
  {
   "cell_type": "code",
   "execution_count": 12,
   "metadata": {},
   "outputs": [
    {
     "data": {
      "text/plain": [
       "(65102, 19)"
      ]
     },
     "execution_count": 12,
     "metadata": {},
     "output_type": "execute_result"
    }
   ],
   "source": [
    "join_home.shape"
   ]
  },
  {
   "cell_type": "code",
   "execution_count": 13,
   "metadata": {},
   "outputs": [
    {
     "data": {
      "text/html": [
       "<div>\n",
       "<style scoped>\n",
       "    .dataframe tbody tr th:only-of-type {\n",
       "        vertical-align: middle;\n",
       "    }\n",
       "\n",
       "    .dataframe tbody tr th {\n",
       "        vertical-align: top;\n",
       "    }\n",
       "\n",
       "    .dataframe thead th {\n",
       "        text-align: right;\n",
       "    }\n",
       "</style>\n",
       "<table border=\"1\" class=\"dataframe\">\n",
       "  <thead>\n",
       "    <tr style=\"text-align: right;\">\n",
       "      <th></th>\n",
       "      <th>Unnamed: 0</th>\n",
       "      <th>pickup_lat</th>\n",
       "      <th>pickup_lng</th>\n",
       "      <th>destination_lat</th>\n",
       "      <th>destination_lng</th>\n",
       "      <th>real_destination_lat</th>\n",
       "      <th>real_destination_lng</th>\n",
       "      <th>finished</th>\n",
       "      <th>created</th>\n",
       "      <th>home_address_lat</th>\n",
       "      <th>home_address_lng</th>\n",
       "      <th>work_address_lat</th>\n",
       "      <th>work_address_lng</th>\n",
       "      <th>new_id</th>\n",
       "      <th>geometry</th>\n",
       "      <th>index_right</th>\n",
       "      <th>NIMI</th>\n",
       "      <th>Shape_STAr</th>\n",
       "      <th>Shape_STLe</th>\n",
       "    </tr>\n",
       "  </thead>\n",
       "  <tbody>\n",
       "    <tr>\n",
       "      <th>0</th>\n",
       "      <td>0</td>\n",
       "      <td>58.390</td>\n",
       "      <td>26.727</td>\n",
       "      <td>58.378</td>\n",
       "      <td>26.711</td>\n",
       "      <td>58.378</td>\n",
       "      <td>26.711</td>\n",
       "      <td>1</td>\n",
       "      <td>2019-04-13 21:00:19</td>\n",
       "      <td>59.428</td>\n",
       "      <td>24.740</td>\n",
       "      <td>NaN</td>\n",
       "      <td>NaN</td>\n",
       "      <td>0</td>\n",
       "      <td>POINT (542002.724 6588025.099)</td>\n",
       "      <td>NaN</td>\n",
       "      <td>NaN</td>\n",
       "      <td>NaN</td>\n",
       "      <td>NaN</td>\n",
       "    </tr>\n",
       "    <tr>\n",
       "      <th>1</th>\n",
       "      <td>1</td>\n",
       "      <td>58.384</td>\n",
       "      <td>26.720</td>\n",
       "      <td>58.399</td>\n",
       "      <td>26.717</td>\n",
       "      <td>58.399</td>\n",
       "      <td>26.716</td>\n",
       "      <td>1</td>\n",
       "      <td>2019-04-02 22:05:44</td>\n",
       "      <td>58.399</td>\n",
       "      <td>26.717</td>\n",
       "      <td>NaN</td>\n",
       "      <td>NaN</td>\n",
       "      <td>1</td>\n",
       "      <td>POINT (658820.497 6476391.525)</td>\n",
       "      <td>12.0</td>\n",
       "      <td>Raadi-Kruusamäe</td>\n",
       "      <td>2.827524e+06</td>\n",
       "      <td>8532.610052</td>\n",
       "    </tr>\n",
       "    <tr>\n",
       "      <th>2</th>\n",
       "      <td>2</td>\n",
       "      <td>58.349</td>\n",
       "      <td>26.793</td>\n",
       "      <td>58.375</td>\n",
       "      <td>26.692</td>\n",
       "      <td>58.375</td>\n",
       "      <td>26.692</td>\n",
       "      <td>1</td>\n",
       "      <td>2019-04-07 05:38:55</td>\n",
       "      <td>58.228</td>\n",
       "      <td>26.398</td>\n",
       "      <td>58.228</td>\n",
       "      <td>26.40</td>\n",
       "      <td>2</td>\n",
       "      <td>POINT (640862.761 6456647.104)</td>\n",
       "      <td>NaN</td>\n",
       "      <td>NaN</td>\n",
       "      <td>NaN</td>\n",
       "      <td>NaN</td>\n",
       "    </tr>\n",
       "    <tr>\n",
       "      <th>3</th>\n",
       "      <td>3</td>\n",
       "      <td>58.382</td>\n",
       "      <td>26.729</td>\n",
       "      <td>58.374</td>\n",
       "      <td>26.758</td>\n",
       "      <td>58.374</td>\n",
       "      <td>26.758</td>\n",
       "      <td>1</td>\n",
       "      <td>2019-04-22 18:41:55</td>\n",
       "      <td>NaN</td>\n",
       "      <td>NaN</td>\n",
       "      <td>NaN</td>\n",
       "      <td>NaN</td>\n",
       "      <td>3</td>\n",
       "      <td>POINT (nan nan)</td>\n",
       "      <td>NaN</td>\n",
       "      <td>NaN</td>\n",
       "      <td>NaN</td>\n",
       "      <td>NaN</td>\n",
       "    </tr>\n",
       "    <tr>\n",
       "      <th>4</th>\n",
       "      <td>4</td>\n",
       "      <td>58.384</td>\n",
       "      <td>26.757</td>\n",
       "      <td>58.378</td>\n",
       "      <td>26.685</td>\n",
       "      <td>58.378</td>\n",
       "      <td>26.685</td>\n",
       "      <td>1</td>\n",
       "      <td>2019-04-30 06:39:34</td>\n",
       "      <td>58.384</td>\n",
       "      <td>26.757</td>\n",
       "      <td>58.359</td>\n",
       "      <td>26.67</td>\n",
       "      <td>4</td>\n",
       "      <td>POINT (661226.013 6474817.668)</td>\n",
       "      <td>13.0</td>\n",
       "      <td>Jaamamõisa</td>\n",
       "      <td>1.499794e+06</td>\n",
       "      <td>5455.636873</td>\n",
       "    </tr>\n",
       "  </tbody>\n",
       "</table>\n",
       "</div>"
      ],
      "text/plain": [
       "   Unnamed: 0  pickup_lat  pickup_lng  destination_lat  destination_lng  \\\n",
       "0           0      58.390      26.727           58.378           26.711   \n",
       "1           1      58.384      26.720           58.399           26.717   \n",
       "2           2      58.349      26.793           58.375           26.692   \n",
       "3           3      58.382      26.729           58.374           26.758   \n",
       "4           4      58.384      26.757           58.378           26.685   \n",
       "\n",
       "   real_destination_lat  real_destination_lng  finished              created  \\\n",
       "0                58.378                26.711         1  2019-04-13 21:00:19   \n",
       "1                58.399                26.716         1  2019-04-02 22:05:44   \n",
       "2                58.375                26.692         1  2019-04-07 05:38:55   \n",
       "3                58.374                26.758         1  2019-04-22 18:41:55   \n",
       "4                58.378                26.685         1  2019-04-30 06:39:34   \n",
       "\n",
       "   home_address_lat  home_address_lng  work_address_lat  work_address_lng  \\\n",
       "0            59.428            24.740               NaN               NaN   \n",
       "1            58.399            26.717               NaN               NaN   \n",
       "2            58.228            26.398            58.228             26.40   \n",
       "3               NaN               NaN               NaN               NaN   \n",
       "4            58.384            26.757            58.359             26.67   \n",
       "\n",
       "   new_id                        geometry  index_right             NIMI  \\\n",
       "0       0  POINT (542002.724 6588025.099)          NaN              NaN   \n",
       "1       1  POINT (658820.497 6476391.525)         12.0  Raadi-Kruusamäe   \n",
       "2       2  POINT (640862.761 6456647.104)          NaN              NaN   \n",
       "3       3                 POINT (nan nan)          NaN              NaN   \n",
       "4       4  POINT (661226.013 6474817.668)         13.0       Jaamamõisa   \n",
       "\n",
       "     Shape_STAr   Shape_STLe  \n",
       "0           NaN          NaN  \n",
       "1  2.827524e+06  8532.610052  \n",
       "2           NaN          NaN  \n",
       "3           NaN          NaN  \n",
       "4  1.499794e+06  5455.636873  "
      ]
     },
     "execution_count": 13,
     "metadata": {},
     "output_type": "execute_result"
    }
   ],
   "source": [
    "join_home.head()"
   ]
  },
  {
   "cell_type": "code",
   "execution_count": 14,
   "metadata": {},
   "outputs": [
    {
     "data": {
      "text/html": [
       "<div>\n",
       "<style scoped>\n",
       "    .dataframe tbody tr th:only-of-type {\n",
       "        vertical-align: middle;\n",
       "    }\n",
       "\n",
       "    .dataframe tbody tr th {\n",
       "        vertical-align: top;\n",
       "    }\n",
       "\n",
       "    .dataframe thead th {\n",
       "        text-align: right;\n",
       "    }\n",
       "</style>\n",
       "<table border=\"1\" class=\"dataframe\">\n",
       "  <thead>\n",
       "    <tr style=\"text-align: right;\">\n",
       "      <th></th>\n",
       "      <th>Unnamed: 0</th>\n",
       "      <th>pickup_lat</th>\n",
       "      <th>pickup_lng</th>\n",
       "      <th>destination_lat</th>\n",
       "      <th>destination_lng</th>\n",
       "      <th>real_destination_lat</th>\n",
       "      <th>real_destination_lng</th>\n",
       "      <th>finished</th>\n",
       "      <th>created</th>\n",
       "      <th>home_address_lat</th>\n",
       "      <th>home_address_lng</th>\n",
       "      <th>work_address_lat</th>\n",
       "      <th>work_address_lng</th>\n",
       "      <th>new_id</th>\n",
       "      <th>home_district</th>\n",
       "    </tr>\n",
       "  </thead>\n",
       "  <tbody>\n",
       "    <tr>\n",
       "      <th>0</th>\n",
       "      <td>0</td>\n",
       "      <td>58.390</td>\n",
       "      <td>26.727</td>\n",
       "      <td>58.378</td>\n",
       "      <td>26.711</td>\n",
       "      <td>58.378</td>\n",
       "      <td>26.711</td>\n",
       "      <td>1</td>\n",
       "      <td>2019-04-13 21:00:19</td>\n",
       "      <td>59.428</td>\n",
       "      <td>24.740</td>\n",
       "      <td>NaN</td>\n",
       "      <td>NaN</td>\n",
       "      <td>0</td>\n",
       "      <td>NaN</td>\n",
       "    </tr>\n",
       "    <tr>\n",
       "      <th>1</th>\n",
       "      <td>1</td>\n",
       "      <td>58.384</td>\n",
       "      <td>26.720</td>\n",
       "      <td>58.399</td>\n",
       "      <td>26.717</td>\n",
       "      <td>58.399</td>\n",
       "      <td>26.716</td>\n",
       "      <td>1</td>\n",
       "      <td>2019-04-02 22:05:44</td>\n",
       "      <td>58.399</td>\n",
       "      <td>26.717</td>\n",
       "      <td>NaN</td>\n",
       "      <td>NaN</td>\n",
       "      <td>1</td>\n",
       "      <td>Raadi-Kruusamäe</td>\n",
       "    </tr>\n",
       "    <tr>\n",
       "      <th>2</th>\n",
       "      <td>2</td>\n",
       "      <td>58.349</td>\n",
       "      <td>26.793</td>\n",
       "      <td>58.375</td>\n",
       "      <td>26.692</td>\n",
       "      <td>58.375</td>\n",
       "      <td>26.692</td>\n",
       "      <td>1</td>\n",
       "      <td>2019-04-07 05:38:55</td>\n",
       "      <td>58.228</td>\n",
       "      <td>26.398</td>\n",
       "      <td>58.228</td>\n",
       "      <td>26.40</td>\n",
       "      <td>2</td>\n",
       "      <td>NaN</td>\n",
       "    </tr>\n",
       "    <tr>\n",
       "      <th>3</th>\n",
       "      <td>3</td>\n",
       "      <td>58.382</td>\n",
       "      <td>26.729</td>\n",
       "      <td>58.374</td>\n",
       "      <td>26.758</td>\n",
       "      <td>58.374</td>\n",
       "      <td>26.758</td>\n",
       "      <td>1</td>\n",
       "      <td>2019-04-22 18:41:55</td>\n",
       "      <td>NaN</td>\n",
       "      <td>NaN</td>\n",
       "      <td>NaN</td>\n",
       "      <td>NaN</td>\n",
       "      <td>3</td>\n",
       "      <td>NaN</td>\n",
       "    </tr>\n",
       "    <tr>\n",
       "      <th>4</th>\n",
       "      <td>4</td>\n",
       "      <td>58.384</td>\n",
       "      <td>26.757</td>\n",
       "      <td>58.378</td>\n",
       "      <td>26.685</td>\n",
       "      <td>58.378</td>\n",
       "      <td>26.685</td>\n",
       "      <td>1</td>\n",
       "      <td>2019-04-30 06:39:34</td>\n",
       "      <td>58.384</td>\n",
       "      <td>26.757</td>\n",
       "      <td>58.359</td>\n",
       "      <td>26.67</td>\n",
       "      <td>4</td>\n",
       "      <td>Jaamamõisa</td>\n",
       "    </tr>\n",
       "  </tbody>\n",
       "</table>\n",
       "</div>"
      ],
      "text/plain": [
       "   Unnamed: 0  pickup_lat  pickup_lng  destination_lat  destination_lng  \\\n",
       "0           0      58.390      26.727           58.378           26.711   \n",
       "1           1      58.384      26.720           58.399           26.717   \n",
       "2           2      58.349      26.793           58.375           26.692   \n",
       "3           3      58.382      26.729           58.374           26.758   \n",
       "4           4      58.384      26.757           58.378           26.685   \n",
       "\n",
       "   real_destination_lat  real_destination_lng  finished              created  \\\n",
       "0                58.378                26.711         1  2019-04-13 21:00:19   \n",
       "1                58.399                26.716         1  2019-04-02 22:05:44   \n",
       "2                58.375                26.692         1  2019-04-07 05:38:55   \n",
       "3                58.374                26.758         1  2019-04-22 18:41:55   \n",
       "4                58.378                26.685         1  2019-04-30 06:39:34   \n",
       "\n",
       "   home_address_lat  home_address_lng  work_address_lat  work_address_lng  \\\n",
       "0            59.428            24.740               NaN               NaN   \n",
       "1            58.399            26.717               NaN               NaN   \n",
       "2            58.228            26.398            58.228             26.40   \n",
       "3               NaN               NaN               NaN               NaN   \n",
       "4            58.384            26.757            58.359             26.67   \n",
       "\n",
       "   new_id    home_district  \n",
       "0       0              NaN  \n",
       "1       1  Raadi-Kruusamäe  \n",
       "2       2              NaN  \n",
       "3       3              NaN  \n",
       "4       4       Jaamamõisa  "
      ]
     },
     "execution_count": 14,
     "metadata": {},
     "output_type": "execute_result"
    }
   ],
   "source": [
    "#drop excess columns and leave only home district name (reamed from NIMI) to the main dataframe\n",
    "data = join_home.drop(columns=[\"geometry\", \"index_right\", \"Shape_STAr\", \"Shape_STLe\"])\n",
    "data = data.rename(columns={\"NIMI\": \"home_district\"})\n",
    "data.head()"
   ]
  },
  {
   "cell_type": "code",
   "execution_count": 15,
   "metadata": {},
   "outputs": [
    {
     "data": {
      "text/html": [
       "<div>\n",
       "<style scoped>\n",
       "    .dataframe tbody tr th:only-of-type {\n",
       "        vertical-align: middle;\n",
       "    }\n",
       "\n",
       "    .dataframe tbody tr th {\n",
       "        vertical-align: top;\n",
       "    }\n",
       "\n",
       "    .dataframe thead th {\n",
       "        text-align: right;\n",
       "    }\n",
       "</style>\n",
       "<table border=\"1\" class=\"dataframe\">\n",
       "  <thead>\n",
       "    <tr style=\"text-align: right;\">\n",
       "      <th></th>\n",
       "      <th>Unnamed: 0</th>\n",
       "      <th>pickup_lat</th>\n",
       "      <th>pickup_lng</th>\n",
       "      <th>destination_lat</th>\n",
       "      <th>destination_lng</th>\n",
       "      <th>real_destination_lat</th>\n",
       "      <th>real_destination_lng</th>\n",
       "      <th>finished</th>\n",
       "      <th>created</th>\n",
       "      <th>home_address_lat</th>\n",
       "      <th>home_address_lng</th>\n",
       "      <th>work_address_lat</th>\n",
       "      <th>work_address_lng</th>\n",
       "      <th>new_id</th>\n",
       "      <th>home_district</th>\n",
       "      <th>pickup_district</th>\n",
       "      <th>destination_district</th>\n",
       "      <th>work_district</th>\n",
       "    </tr>\n",
       "  </thead>\n",
       "  <tbody>\n",
       "    <tr>\n",
       "      <th>0</th>\n",
       "      <td>0</td>\n",
       "      <td>58.390</td>\n",
       "      <td>26.727</td>\n",
       "      <td>58.378</td>\n",
       "      <td>26.711</td>\n",
       "      <td>58.378</td>\n",
       "      <td>26.711</td>\n",
       "      <td>1</td>\n",
       "      <td>2019-04-13 21:00:19</td>\n",
       "      <td>59.428</td>\n",
       "      <td>24.740</td>\n",
       "      <td>NaN</td>\n",
       "      <td>NaN</td>\n",
       "      <td>0</td>\n",
       "      <td>NaN</td>\n",
       "      <td>Ülejõe</td>\n",
       "      <td>Kesklinna</td>\n",
       "      <td>NaN</td>\n",
       "    </tr>\n",
       "    <tr>\n",
       "      <th>1</th>\n",
       "      <td>1</td>\n",
       "      <td>58.384</td>\n",
       "      <td>26.720</td>\n",
       "      <td>58.399</td>\n",
       "      <td>26.717</td>\n",
       "      <td>58.399</td>\n",
       "      <td>26.716</td>\n",
       "      <td>1</td>\n",
       "      <td>2019-04-02 22:05:44</td>\n",
       "      <td>58.399</td>\n",
       "      <td>26.717</td>\n",
       "      <td>NaN</td>\n",
       "      <td>NaN</td>\n",
       "      <td>1</td>\n",
       "      <td>Raadi-Kruusamäe</td>\n",
       "      <td>Kesklinna</td>\n",
       "      <td>Raadi-Kruusamäe</td>\n",
       "      <td>NaN</td>\n",
       "    </tr>\n",
       "    <tr>\n",
       "      <th>2</th>\n",
       "      <td>2</td>\n",
       "      <td>58.349</td>\n",
       "      <td>26.793</td>\n",
       "      <td>58.375</td>\n",
       "      <td>26.692</td>\n",
       "      <td>58.375</td>\n",
       "      <td>26.692</td>\n",
       "      <td>1</td>\n",
       "      <td>2019-04-07 05:38:55</td>\n",
       "      <td>58.228</td>\n",
       "      <td>26.398</td>\n",
       "      <td>58.228</td>\n",
       "      <td>26.40</td>\n",
       "      <td>2</td>\n",
       "      <td>NaN</td>\n",
       "      <td>NaN</td>\n",
       "      <td>Veeriku</td>\n",
       "      <td>NaN</td>\n",
       "    </tr>\n",
       "    <tr>\n",
       "      <th>3</th>\n",
       "      <td>3</td>\n",
       "      <td>58.382</td>\n",
       "      <td>26.729</td>\n",
       "      <td>58.374</td>\n",
       "      <td>26.758</td>\n",
       "      <td>58.374</td>\n",
       "      <td>26.758</td>\n",
       "      <td>1</td>\n",
       "      <td>2019-04-22 18:41:55</td>\n",
       "      <td>NaN</td>\n",
       "      <td>NaN</td>\n",
       "      <td>NaN</td>\n",
       "      <td>NaN</td>\n",
       "      <td>3</td>\n",
       "      <td>NaN</td>\n",
       "      <td>Ülejõe</td>\n",
       "      <td>Annelinna</td>\n",
       "      <td>NaN</td>\n",
       "    </tr>\n",
       "    <tr>\n",
       "      <th>4</th>\n",
       "      <td>4</td>\n",
       "      <td>58.384</td>\n",
       "      <td>26.757</td>\n",
       "      <td>58.378</td>\n",
       "      <td>26.685</td>\n",
       "      <td>58.378</td>\n",
       "      <td>26.685</td>\n",
       "      <td>1</td>\n",
       "      <td>2019-04-30 06:39:34</td>\n",
       "      <td>58.384</td>\n",
       "      <td>26.757</td>\n",
       "      <td>58.359</td>\n",
       "      <td>26.67</td>\n",
       "      <td>4</td>\n",
       "      <td>Jaamamõisa</td>\n",
       "      <td>Jaamamõisa</td>\n",
       "      <td>Veeriku</td>\n",
       "      <td>NaN</td>\n",
       "    </tr>\n",
       "  </tbody>\n",
       "</table>\n",
       "</div>"
      ],
      "text/plain": [
       "   Unnamed: 0  pickup_lat  pickup_lng  destination_lat  destination_lng  \\\n",
       "0           0      58.390      26.727           58.378           26.711   \n",
       "1           1      58.384      26.720           58.399           26.717   \n",
       "2           2      58.349      26.793           58.375           26.692   \n",
       "3           3      58.382      26.729           58.374           26.758   \n",
       "4           4      58.384      26.757           58.378           26.685   \n",
       "\n",
       "   real_destination_lat  real_destination_lng  finished              created  \\\n",
       "0                58.378                26.711         1  2019-04-13 21:00:19   \n",
       "1                58.399                26.716         1  2019-04-02 22:05:44   \n",
       "2                58.375                26.692         1  2019-04-07 05:38:55   \n",
       "3                58.374                26.758         1  2019-04-22 18:41:55   \n",
       "4                58.378                26.685         1  2019-04-30 06:39:34   \n",
       "\n",
       "   home_address_lat  home_address_lng  work_address_lat  work_address_lng  \\\n",
       "0            59.428            24.740               NaN               NaN   \n",
       "1            58.399            26.717               NaN               NaN   \n",
       "2            58.228            26.398            58.228             26.40   \n",
       "3               NaN               NaN               NaN               NaN   \n",
       "4            58.384            26.757            58.359             26.67   \n",
       "\n",
       "   new_id    home_district pickup_district destination_district work_district  \n",
       "0       0              NaN          Ülejõe            Kesklinna           NaN  \n",
       "1       1  Raadi-Kruusamäe       Kesklinna      Raadi-Kruusamäe           NaN  \n",
       "2       2              NaN             NaN              Veeriku           NaN  \n",
       "3       3              NaN          Ülejõe            Annelinna           NaN  \n",
       "4       4       Jaamamõisa      Jaamamõisa              Veeriku           NaN  "
      ]
     },
     "execution_count": 15,
     "metadata": {},
     "output_type": "execute_result"
    }
   ],
   "source": [
    "#repeat above 3 times to add pickup, real_destination and work address district info to the main dataframe\n",
    "\n",
    "#add pickup district\n",
    "gdf_pickup = geopandas.GeoDataFrame(data, geometry=geopandas.points_from_xy(data.pickup_lng, data.pickup_lat)) \n",
    "gdf_pickup.set_crs(epsg=4326, inplace=True)\n",
    "gdf_pickup = gdf_pickup.to_crs(epsg=3301)\n",
    "join_pickup = geopandas.sjoin(gdf_pickup, linnaosad, how=\"left\", op=\"within\")\n",
    "data = join_pickup.drop(columns=[\"geometry\", \"index_right\", \"Shape_STAr\", \"Shape_STLe\"])\n",
    "data = data.rename(columns={\"NIMI\": \"pickup_district\"})\n",
    "\n",
    "#add real_destination district\n",
    "gdf_dest = geopandas.GeoDataFrame(data, geometry=geopandas.points_from_xy(data.real_destination_lng, data.real_destination_lat)) \n",
    "gdf_dest.set_crs(epsg=4326, inplace=True)\n",
    "gdf_dest = gdf_dest.to_crs(epsg=3301)\n",
    "join_dest = geopandas.sjoin(gdf_dest, linnaosad, how=\"left\", op=\"within\")\n",
    "data = join_dest.drop(columns=[\"geometry\", \"index_right\", \"Shape_STAr\", \"Shape_STLe\"])\n",
    "data = data.rename(columns={\"NIMI\": \"destination_district\"})\n",
    "\n",
    "#add work address district\n",
    "gdf_work = geopandas.GeoDataFrame(data, geometry=geopandas.points_from_xy(data.work_address_lng, data.work_address_lat)) \n",
    "gdf_work.set_crs(epsg=4326, inplace=True)\n",
    "gdf_work = gdf_work.to_crs(epsg=3301)\n",
    "join_work = geopandas.sjoin(gdf_work, linnaosad, how=\"left\", op=\"within\")\n",
    "data = join_work.drop(columns=[\"geometry\", \"index_right\", \"Shape_STAr\", \"Shape_STLe\"])\n",
    "data = data.rename(columns={\"NIMI\": \"work_district\"})\n",
    "\n",
    "data.head()"
   ]
  },
  {
   "cell_type": "code",
   "execution_count": 16,
   "metadata": {},
   "outputs": [
    {
     "data": {
      "text/plain": [
       "(65102, 18)"
      ]
     },
     "execution_count": 16,
     "metadata": {},
     "output_type": "execute_result"
    }
   ],
   "source": [
    "data.shape"
   ]
  },
  {
   "cell_type": "code",
   "execution_count": 17,
   "metadata": {},
   "outputs": [],
   "source": [
    "data.to_csv(\"Bolt_data_districts.csv\")"
   ]
  },
  {
   "cell_type": "code",
   "execution_count": 18,
   "metadata": {},
   "outputs": [
    {
     "data": {
      "text/plain": [
       "Unnamed: 0              65102\n",
       "pickup_lat              65102\n",
       "pickup_lng              65102\n",
       "destination_lat         65074\n",
       "destination_lng         65071\n",
       "real_destination_lat    58521\n",
       "real_destination_lng    58521\n",
       "finished                65102\n",
       "created                 65102\n",
       "home_address_lat        38682\n",
       "home_address_lng        38682\n",
       "work_address_lat        22588\n",
       "work_address_lng        22588\n",
       "new_id                  65102\n",
       "home_district           27296\n",
       "pickup_district         60152\n",
       "destination_district    53047\n",
       "work_district           16578\n",
       "dtype: int64"
      ]
     },
     "execution_count": 18,
     "metadata": {},
     "output_type": "execute_result"
    }
   ],
   "source": [
    "data.count()"
   ]
  },
  {
   "cell_type": "code",
   "execution_count": 208,
   "metadata": {},
   "outputs": [
    {
     "data": {
      "text/plain": [
       "<AxesSubplot:>"
      ]
     },
     "execution_count": 208,
     "metadata": {},
     "output_type": "execute_result"
    },
    {
     "data": {
      "image/png": "[encoded data removed]",
      "text/plain": [
       "<Figure size 432x288 with 1 Axes>"
      ]
     },
     "metadata": {
      "needs_background": "light"
     },
     "output_type": "display_data"
    }
   ],
   "source": [
    "# pickup district distribution\n",
    "data[\"pickup_district\"].value_counts().plot(kind=\"bar\", color=\"green\")"
   ]
  },
  {
   "cell_type": "code",
   "execution_count": 20,
   "metadata": {},
   "outputs": [
    {
     "data": {
      "text/plain": [
       "<AxesSubplot:>"
      ]
     },
     "execution_count": 20,
     "metadata": {},
     "output_type": "execute_result"
    },
    {
     "data": {
      "image/png": "[encoded data removed]",
      "text/plain": [
       "<Figure size 432x288 with 1 Axes>"
      ]
     },
     "metadata": {
      "needs_background": "light"
     },
     "output_type": "display_data"
    }
   ],
   "source": [
    "# destination district distribution\n",
    "data[\"destination_district\"].value_counts().plot(kind=\"bar\")"
   ]
  },
  {
   "cell_type": "code",
   "execution_count": 21,
   "metadata": {},
   "outputs": [],
   "source": [
    "# extract weekday\n",
    "data[\"weekday\"] = pd.Categorical(pd.to_datetime(data.created).dt.weekday, ordered=True)"
   ]
  },
  {
   "cell_type": "code",
   "execution_count": 22,
   "metadata": {},
   "outputs": [],
   "source": [
    "data[\"weekday\"].cat.categories = [\"Monday\", \"Tuesday\", \"Wednesday\", \"Thursday\", \"Friday\", \"Saturday\", \"Sunday\"]"
   ]
  },
  {
   "cell_type": "code",
   "execution_count": 23,
   "metadata": {},
   "outputs": [
    {
     "data": {
      "text/html": [
       "<div>\n",
       "<style scoped>\n",
       "    .dataframe tbody tr th:only-of-type {\n",
       "        vertical-align: middle;\n",
       "    }\n",
       "\n",
       "    .dataframe tbody tr th {\n",
       "        vertical-align: top;\n",
       "    }\n",
       "\n",
       "    .dataframe thead th {\n",
       "        text-align: right;\n",
       "    }\n",
       "</style>\n",
       "<table border=\"1\" class=\"dataframe\">\n",
       "  <thead>\n",
       "    <tr style=\"text-align: right;\">\n",
       "      <th></th>\n",
       "      <th>Unnamed: 0</th>\n",
       "      <th>pickup_lat</th>\n",
       "      <th>pickup_lng</th>\n",
       "      <th>destination_lat</th>\n",
       "      <th>destination_lng</th>\n",
       "      <th>real_destination_lat</th>\n",
       "      <th>real_destination_lng</th>\n",
       "      <th>finished</th>\n",
       "      <th>created</th>\n",
       "      <th>home_address_lat</th>\n",
       "      <th>home_address_lng</th>\n",
       "      <th>work_address_lat</th>\n",
       "      <th>work_address_lng</th>\n",
       "      <th>new_id</th>\n",
       "      <th>home_district</th>\n",
       "      <th>pickup_district</th>\n",
       "      <th>destination_district</th>\n",
       "      <th>work_district</th>\n",
       "      <th>weekday</th>\n",
       "    </tr>\n",
       "  </thead>\n",
       "  <tbody>\n",
       "    <tr>\n",
       "      <th>0</th>\n",
       "      <td>0</td>\n",
       "      <td>58.390</td>\n",
       "      <td>26.727</td>\n",
       "      <td>58.378</td>\n",
       "      <td>26.711</td>\n",
       "      <td>58.378</td>\n",
       "      <td>26.711</td>\n",
       "      <td>1</td>\n",
       "      <td>2019-04-13 21:00:19</td>\n",
       "      <td>59.428</td>\n",
       "      <td>24.740</td>\n",
       "      <td>NaN</td>\n",
       "      <td>NaN</td>\n",
       "      <td>0</td>\n",
       "      <td>NaN</td>\n",
       "      <td>Ülejõe</td>\n",
       "      <td>Kesklinna</td>\n",
       "      <td>NaN</td>\n",
       "      <td>Saturday</td>\n",
       "    </tr>\n",
       "    <tr>\n",
       "      <th>1</th>\n",
       "      <td>1</td>\n",
       "      <td>58.384</td>\n",
       "      <td>26.720</td>\n",
       "      <td>58.399</td>\n",
       "      <td>26.717</td>\n",
       "      <td>58.399</td>\n",
       "      <td>26.716</td>\n",
       "      <td>1</td>\n",
       "      <td>2019-04-02 22:05:44</td>\n",
       "      <td>58.399</td>\n",
       "      <td>26.717</td>\n",
       "      <td>NaN</td>\n",
       "      <td>NaN</td>\n",
       "      <td>1</td>\n",
       "      <td>Raadi-Kruusamäe</td>\n",
       "      <td>Kesklinna</td>\n",
       "      <td>Raadi-Kruusamäe</td>\n",
       "      <td>NaN</td>\n",
       "      <td>Tuesday</td>\n",
       "    </tr>\n",
       "    <tr>\n",
       "      <th>2</th>\n",
       "      <td>2</td>\n",
       "      <td>58.349</td>\n",
       "      <td>26.793</td>\n",
       "      <td>58.375</td>\n",
       "      <td>26.692</td>\n",
       "      <td>58.375</td>\n",
       "      <td>26.692</td>\n",
       "      <td>1</td>\n",
       "      <td>2019-04-07 05:38:55</td>\n",
       "      <td>58.228</td>\n",
       "      <td>26.398</td>\n",
       "      <td>58.228</td>\n",
       "      <td>26.40</td>\n",
       "      <td>2</td>\n",
       "      <td>NaN</td>\n",
       "      <td>NaN</td>\n",
       "      <td>Veeriku</td>\n",
       "      <td>NaN</td>\n",
       "      <td>Sunday</td>\n",
       "    </tr>\n",
       "    <tr>\n",
       "      <th>3</th>\n",
       "      <td>3</td>\n",
       "      <td>58.382</td>\n",
       "      <td>26.729</td>\n",
       "      <td>58.374</td>\n",
       "      <td>26.758</td>\n",
       "      <td>58.374</td>\n",
       "      <td>26.758</td>\n",
       "      <td>1</td>\n",
       "      <td>2019-04-22 18:41:55</td>\n",
       "      <td>NaN</td>\n",
       "      <td>NaN</td>\n",
       "      <td>NaN</td>\n",
       "      <td>NaN</td>\n",
       "      <td>3</td>\n",
       "      <td>NaN</td>\n",
       "      <td>Ülejõe</td>\n",
       "      <td>Annelinna</td>\n",
       "      <td>NaN</td>\n",
       "      <td>Monday</td>\n",
       "    </tr>\n",
       "    <tr>\n",
       "      <th>4</th>\n",
       "      <td>4</td>\n",
       "      <td>58.384</td>\n",
       "      <td>26.757</td>\n",
       "      <td>58.378</td>\n",
       "      <td>26.685</td>\n",
       "      <td>58.378</td>\n",
       "      <td>26.685</td>\n",
       "      <td>1</td>\n",
       "      <td>2019-04-30 06:39:34</td>\n",
       "      <td>58.384</td>\n",
       "      <td>26.757</td>\n",
       "      <td>58.359</td>\n",
       "      <td>26.67</td>\n",
       "      <td>4</td>\n",
       "      <td>Jaamamõisa</td>\n",
       "      <td>Jaamamõisa</td>\n",
       "      <td>Veeriku</td>\n",
       "      <td>NaN</td>\n",
       "      <td>Tuesday</td>\n",
       "    </tr>\n",
       "  </tbody>\n",
       "</table>\n",
       "</div>"
      ],
      "text/plain": [
       "   Unnamed: 0  pickup_lat  pickup_lng  destination_lat  destination_lng  \\\n",
       "0           0      58.390      26.727           58.378           26.711   \n",
       "1           1      58.384      26.720           58.399           26.717   \n",
       "2           2      58.349      26.793           58.375           26.692   \n",
       "3           3      58.382      26.729           58.374           26.758   \n",
       "4           4      58.384      26.757           58.378           26.685   \n",
       "\n",
       "   real_destination_lat  real_destination_lng  finished              created  \\\n",
       "0                58.378                26.711         1  2019-04-13 21:00:19   \n",
       "1                58.399                26.716         1  2019-04-02 22:05:44   \n",
       "2                58.375                26.692         1  2019-04-07 05:38:55   \n",
       "3                58.374                26.758         1  2019-04-22 18:41:55   \n",
       "4                58.378                26.685         1  2019-04-30 06:39:34   \n",
       "\n",
       "   home_address_lat  home_address_lng  work_address_lat  work_address_lng  \\\n",
       "0            59.428            24.740               NaN               NaN   \n",
       "1            58.399            26.717               NaN               NaN   \n",
       "2            58.228            26.398            58.228             26.40   \n",
       "3               NaN               NaN               NaN               NaN   \n",
       "4            58.384            26.757            58.359             26.67   \n",
       "\n",
       "   new_id    home_district pickup_district destination_district work_district  \\\n",
       "0       0              NaN          Ülejõe            Kesklinna           NaN   \n",
       "1       1  Raadi-Kruusamäe       Kesklinna      Raadi-Kruusamäe           NaN   \n",
       "2       2              NaN             NaN              Veeriku           NaN   \n",
       "3       3              NaN          Ülejõe            Annelinna           NaN   \n",
       "4       4       Jaamamõisa      Jaamamõisa              Veeriku           NaN   \n",
       "\n",
       "    weekday  \n",
       "0  Saturday  \n",
       "1   Tuesday  \n",
       "2    Sunday  \n",
       "3    Monday  \n",
       "4   Tuesday  "
      ]
     },
     "execution_count": 23,
     "metadata": {},
     "output_type": "execute_result"
    }
   ],
   "source": [
    "data.head()"
   ]
  },
  {
   "cell_type": "code",
   "execution_count": 213,
   "metadata": {},
   "outputs": [
    {
     "data": {
      "image/png": "[encoded data removed]",
      "text/plain": [
       "<Figure size 432x288 with 1 Axes>"
      ]
     },
     "metadata": {
      "needs_background": "light"
     },
     "output_type": "display_data"
    }
   ],
   "source": [
    "# weekday distribution\n",
    "data[\"weekday\"].value_counts().sort_index().plot(kind=\"bar\", color=\"green\")\n",
    "plt.title=(\"Rides' Weekly Distribution\")\n",
    "plt.show()"
   ]
  },
  {
   "cell_type": "code",
   "execution_count": 25,
   "metadata": {},
   "outputs": [],
   "source": [
    "# extract time window\n",
    "data[\"time_window\"] = pd.Categorical(pd.to_datetime(data.created).dt.hour, ordered=True)"
   ]
  },
  {
   "cell_type": "code",
   "execution_count": 26,
   "metadata": {},
   "outputs": [
    {
     "data": {
      "text/html": [
       "<div>\n",
       "<style scoped>\n",
       "    .dataframe tbody tr th:only-of-type {\n",
       "        vertical-align: middle;\n",
       "    }\n",
       "\n",
       "    .dataframe tbody tr th {\n",
       "        vertical-align: top;\n",
       "    }\n",
       "\n",
       "    .dataframe thead th {\n",
       "        text-align: right;\n",
       "    }\n",
       "</style>\n",
       "<table border=\"1\" class=\"dataframe\">\n",
       "  <thead>\n",
       "    <tr style=\"text-align: right;\">\n",
       "      <th></th>\n",
       "      <th>Unnamed: 0</th>\n",
       "      <th>pickup_lat</th>\n",
       "      <th>pickup_lng</th>\n",
       "      <th>destination_lat</th>\n",
       "      <th>destination_lng</th>\n",
       "      <th>real_destination_lat</th>\n",
       "      <th>real_destination_lng</th>\n",
       "      <th>finished</th>\n",
       "      <th>created</th>\n",
       "      <th>home_address_lat</th>\n",
       "      <th>home_address_lng</th>\n",
       "      <th>work_address_lat</th>\n",
       "      <th>work_address_lng</th>\n",
       "      <th>new_id</th>\n",
       "      <th>home_district</th>\n",
       "      <th>pickup_district</th>\n",
       "      <th>destination_district</th>\n",
       "      <th>work_district</th>\n",
       "      <th>weekday</th>\n",
       "      <th>time_window</th>\n",
       "    </tr>\n",
       "  </thead>\n",
       "  <tbody>\n",
       "    <tr>\n",
       "      <th>0</th>\n",
       "      <td>0</td>\n",
       "      <td>58.390</td>\n",
       "      <td>26.727</td>\n",
       "      <td>58.378</td>\n",
       "      <td>26.711</td>\n",
       "      <td>58.378</td>\n",
       "      <td>26.711</td>\n",
       "      <td>1</td>\n",
       "      <td>2019-04-13 21:00:19</td>\n",
       "      <td>59.428</td>\n",
       "      <td>24.740</td>\n",
       "      <td>NaN</td>\n",
       "      <td>NaN</td>\n",
       "      <td>0</td>\n",
       "      <td>NaN</td>\n",
       "      <td>Ülejõe</td>\n",
       "      <td>Kesklinna</td>\n",
       "      <td>NaN</td>\n",
       "      <td>Saturday</td>\n",
       "      <td>21</td>\n",
       "    </tr>\n",
       "    <tr>\n",
       "      <th>1</th>\n",
       "      <td>1</td>\n",
       "      <td>58.384</td>\n",
       "      <td>26.720</td>\n",
       "      <td>58.399</td>\n",
       "      <td>26.717</td>\n",
       "      <td>58.399</td>\n",
       "      <td>26.716</td>\n",
       "      <td>1</td>\n",
       "      <td>2019-04-02 22:05:44</td>\n",
       "      <td>58.399</td>\n",
       "      <td>26.717</td>\n",
       "      <td>NaN</td>\n",
       "      <td>NaN</td>\n",
       "      <td>1</td>\n",
       "      <td>Raadi-Kruusamäe</td>\n",
       "      <td>Kesklinna</td>\n",
       "      <td>Raadi-Kruusamäe</td>\n",
       "      <td>NaN</td>\n",
       "      <td>Tuesday</td>\n",
       "      <td>22</td>\n",
       "    </tr>\n",
       "    <tr>\n",
       "      <th>2</th>\n",
       "      <td>2</td>\n",
       "      <td>58.349</td>\n",
       "      <td>26.793</td>\n",
       "      <td>58.375</td>\n",
       "      <td>26.692</td>\n",
       "      <td>58.375</td>\n",
       "      <td>26.692</td>\n",
       "      <td>1</td>\n",
       "      <td>2019-04-07 05:38:55</td>\n",
       "      <td>58.228</td>\n",
       "      <td>26.398</td>\n",
       "      <td>58.228</td>\n",
       "      <td>26.40</td>\n",
       "      <td>2</td>\n",
       "      <td>NaN</td>\n",
       "      <td>NaN</td>\n",
       "      <td>Veeriku</td>\n",
       "      <td>NaN</td>\n",
       "      <td>Sunday</td>\n",
       "      <td>5</td>\n",
       "    </tr>\n",
       "    <tr>\n",
       "      <th>3</th>\n",
       "      <td>3</td>\n",
       "      <td>58.382</td>\n",
       "      <td>26.729</td>\n",
       "      <td>58.374</td>\n",
       "      <td>26.758</td>\n",
       "      <td>58.374</td>\n",
       "      <td>26.758</td>\n",
       "      <td>1</td>\n",
       "      <td>2019-04-22 18:41:55</td>\n",
       "      <td>NaN</td>\n",
       "      <td>NaN</td>\n",
       "      <td>NaN</td>\n",
       "      <td>NaN</td>\n",
       "      <td>3</td>\n",
       "      <td>NaN</td>\n",
       "      <td>Ülejõe</td>\n",
       "      <td>Annelinna</td>\n",
       "      <td>NaN</td>\n",
       "      <td>Monday</td>\n",
       "      <td>18</td>\n",
       "    </tr>\n",
       "    <tr>\n",
       "      <th>4</th>\n",
       "      <td>4</td>\n",
       "      <td>58.384</td>\n",
       "      <td>26.757</td>\n",
       "      <td>58.378</td>\n",
       "      <td>26.685</td>\n",
       "      <td>58.378</td>\n",
       "      <td>26.685</td>\n",
       "      <td>1</td>\n",
       "      <td>2019-04-30 06:39:34</td>\n",
       "      <td>58.384</td>\n",
       "      <td>26.757</td>\n",
       "      <td>58.359</td>\n",
       "      <td>26.67</td>\n",
       "      <td>4</td>\n",
       "      <td>Jaamamõisa</td>\n",
       "      <td>Jaamamõisa</td>\n",
       "      <td>Veeriku</td>\n",
       "      <td>NaN</td>\n",
       "      <td>Tuesday</td>\n",
       "      <td>6</td>\n",
       "    </tr>\n",
       "  </tbody>\n",
       "</table>\n",
       "</div>"
      ],
      "text/plain": [
       "   Unnamed: 0  pickup_lat  pickup_lng  destination_lat  destination_lng  \\\n",
       "0           0      58.390      26.727           58.378           26.711   \n",
       "1           1      58.384      26.720           58.399           26.717   \n",
       "2           2      58.349      26.793           58.375           26.692   \n",
       "3           3      58.382      26.729           58.374           26.758   \n",
       "4           4      58.384      26.757           58.378           26.685   \n",
       "\n",
       "   real_destination_lat  real_destination_lng  finished              created  \\\n",
       "0                58.378                26.711         1  2019-04-13 21:00:19   \n",
       "1                58.399                26.716         1  2019-04-02 22:05:44   \n",
       "2                58.375                26.692         1  2019-04-07 05:38:55   \n",
       "3                58.374                26.758         1  2019-04-22 18:41:55   \n",
       "4                58.378                26.685         1  2019-04-30 06:39:34   \n",
       "\n",
       "   home_address_lat  home_address_lng  work_address_lat  work_address_lng  \\\n",
       "0            59.428            24.740               NaN               NaN   \n",
       "1            58.399            26.717               NaN               NaN   \n",
       "2            58.228            26.398            58.228             26.40   \n",
       "3               NaN               NaN               NaN               NaN   \n",
       "4            58.384            26.757            58.359             26.67   \n",
       "\n",
       "   new_id    home_district pickup_district destination_district work_district  \\\n",
       "0       0              NaN          Ülejõe            Kesklinna           NaN   \n",
       "1       1  Raadi-Kruusamäe       Kesklinna      Raadi-Kruusamäe           NaN   \n",
       "2       2              NaN             NaN              Veeriku           NaN   \n",
       "3       3              NaN          Ülejõe            Annelinna           NaN   \n",
       "4       4       Jaamamõisa      Jaamamõisa              Veeriku           NaN   \n",
       "\n",
       "    weekday time_window  \n",
       "0  Saturday          21  \n",
       "1   Tuesday          22  \n",
       "2    Sunday           5  \n",
       "3    Monday          18  \n",
       "4   Tuesday           6  "
      ]
     },
     "execution_count": 26,
     "metadata": {},
     "output_type": "execute_result"
    }
   ],
   "source": [
    "data.head()"
   ]
  },
  {
   "cell_type": "code",
   "execution_count": 214,
   "metadata": {
    "scrolled": true
   },
   "outputs": [
    {
     "data": {
      "text/plain": [
       "<AxesSubplot:>"
      ]
     },
     "execution_count": 214,
     "metadata": {},
     "output_type": "execute_result"
    },
    {
     "data": {
      "image/png": "[encoded data removed]",
      "text/plain": [
       "<Figure size 432x288 with 1 Axes>"
      ]
     },
     "metadata": {
      "needs_background": "light"
     },
     "output_type": "display_data"
    }
   ],
   "source": [
    "# daily time distribution\n",
    "data[\"time_window\"].value_counts().sort_index().plot(kind=\"bar\", color=\"green\")"
   ]
  },
  {
   "cell_type": "code",
   "execution_count": 28,
   "metadata": {},
   "outputs": [
    {
     "data": {
      "text/plain": [
       "<AxesSubplot:>"
      ]
     },
     "execution_count": 28,
     "metadata": {},
     "output_type": "execute_result"
    },
    {
     "data": {
      "image/png": "[encoded data removed]",
      "text/plain": [
       "<Figure size 432x288 with 1 Axes>"
      ]
     },
     "metadata": {
      "needs_background": "light"
     },
     "output_type": "display_data"
    }
   ],
   "source": [
    "# extract Monday-Thursday data\n",
    "mon_thu = [\"Monday\", \"Tuesday\", \"Wednesday\", \"Thursday\"]\n",
    "data_mon_thu = data[data.weekday.isin(mon_thu)]\n",
    "data_mon_thu[\"time_window\"].value_counts().sort_index().plot(kind=\"bar\")"
   ]
  },
  {
   "cell_type": "code",
   "execution_count": 29,
   "metadata": {},
   "outputs": [
    {
     "data": {
      "text/plain": [
       "<AxesSubplot:>"
      ]
     },
     "execution_count": 29,
     "metadata": {},
     "output_type": "execute_result"
    },
    {
     "data": {
      "image/png": "[encoded data removed]",
      "text/plain": [
       "<Figure size 432x288 with 1 Axes>"
      ]
     },
     "metadata": {
      "needs_background": "light"
     },
     "output_type": "display_data"
    }
   ],
   "source": [
    "# extract Friday-Saturday\n",
    "fri_sat = [\"Friday\", \"Saturday\"]\n",
    "data_fri_sat = data[data.weekday.isin(fri_sat)]\n",
    "data_fri_sat[\"time_window\"].value_counts().sort_index().plot(kind=\"bar\")"
   ]
  },
  {
   "cell_type": "code",
   "execution_count": 30,
   "metadata": {},
   "outputs": [
    {
     "data": {
      "text/plain": [
       "<AxesSubplot:>"
      ]
     },
     "execution_count": 30,
     "metadata": {},
     "output_type": "execute_result"
    },
    {
     "data": {
      "image/png": "[encoded data removed]",
      "text/plain": [
       "<Figure size 432x288 with 1 Axes>"
      ]
     },
     "metadata": {
      "needs_background": "light"
     },
     "output_type": "display_data"
    }
   ],
   "source": [
    "data_fri_sat[\"destination_district\"].value_counts().plot(kind=\"bar\")"
   ]
  },
  {
   "cell_type": "code",
   "execution_count": 31,
   "metadata": {},
   "outputs": [
    {
     "data": {
      "text/plain": [
       "<AxesSubplot:>"
      ]
     },
     "execution_count": 31,
     "metadata": {},
     "output_type": "execute_result"
    },
    {
     "data": {
      "image/png": "[encoded data removed]",
      "text/plain": [
       "<Figure size 432x288 with 1 Axes>"
      ]
     },
     "metadata": {
      "needs_background": "light"
     },
     "output_type": "display_data"
    }
   ],
   "source": [
    "data_fri_sat[\"pickup_district\"].value_counts().plot(kind=\"bar\")"
   ]
  },
  {
   "cell_type": "code",
   "execution_count": 32,
   "metadata": {},
   "outputs": [],
   "source": [
    "#count how many times a user has been at scpecific coordinates, taking into account both pickup and real destination coordinates\n",
    "\n",
    "# select by ID pickup coordinates\n",
    "id_pickup = data[[\"new_id\", \"pickup_lat\", \"pickup_lng\"]]"
   ]
  },
  {
   "cell_type": "code",
   "execution_count": 33,
   "metadata": {},
   "outputs": [],
   "source": [
    "# select by ID real destination coordinates\n",
    "id_destination = data[[\"new_id\",\"real_destination_lat\", \"real_destination_lng\"]]"
   ]
  },
  {
   "cell_type": "code",
   "execution_count": 34,
   "metadata": {},
   "outputs": [],
   "source": [
    "# rename pickup coordinates \n",
    "id_pickup = id_pickup.rename(columns={\"pickup_lat\": \"lat\", \"pickup_lng\": \"lng\"}, errors=\"raise\")"
   ]
  },
  {
   "cell_type": "code",
   "execution_count": 35,
   "metadata": {},
   "outputs": [],
   "source": [
    "id_destination = id_destination.rename(columns={\"real_destination_lat\": \"lat\", \"real_destination_lng\": \"lng\"}, errors=\"raise\")"
   ]
  },
  {
   "cell_type": "code",
   "execution_count": 36,
   "metadata": {},
   "outputs": [],
   "source": [
    "# merge together\n",
    "id_data = pd.concat([id_pickup, id_destination])"
   ]
  },
  {
   "cell_type": "code",
   "execution_count": 37,
   "metadata": {},
   "outputs": [],
   "source": [
    "# drop missing values\n",
    "id_data = id_data.dropna()"
   ]
  },
  {
   "cell_type": "code",
   "execution_count": 38,
   "metadata": {},
   "outputs": [],
   "source": [
    "#count by unique users\n",
    "id_data_count = id_data.groupby(by=[\"new_id\", \"lat\", \"lng\"], as_index=False).size()"
   ]
  },
  {
   "cell_type": "code",
   "execution_count": 39,
   "metadata": {},
   "outputs": [],
   "source": [
    "id_data_count = id_data_count.rename(columns={\"size\": \"visit_count\"})"
   ]
  },
  {
   "cell_type": "code",
   "execution_count": 40,
   "metadata": {},
   "outputs": [],
   "source": [
    "# join visit_count with data to predict if destination is home or not\n",
    "data = data.join(id_data_count.set_index([\"new_id\", \"lat\", \"lng\"]), on=[\"new_id\", \"real_destination_lat\", \"real_destination_lng\"])"
   ]
  },
  {
   "cell_type": "code",
   "execution_count": 41,
   "metadata": {},
   "outputs": [
    {
     "data": {
      "text/plain": [
       "Index(['Unnamed: 0', 'pickup_lat', 'pickup_lng', 'destination_lat',\n",
       "       'destination_lng', 'real_destination_lat', 'real_destination_lng',\n",
       "       'finished', 'created', 'home_address_lat', 'home_address_lng',\n",
       "       'work_address_lat', 'work_address_lng', 'new_id', 'home_district',\n",
       "       'pickup_district', 'destination_district', 'work_district', 'weekday',\n",
       "       'time_window', 'visit_count_destination'],\n",
       "      dtype='object')"
      ]
     },
     "execution_count": 41,
     "metadata": {},
     "output_type": "execute_result"
    }
   ],
   "source": [
    "data = data.rename(columns={\"visit_count\": \"visit_count_destination\"})\n",
    "data.columns"
   ]
  },
  {
   "cell_type": "code",
   "execution_count": 42,
   "metadata": {},
   "outputs": [],
   "source": [
    "# join visit_count with data to predict if pickup is home or not\n",
    "data = data.join(id_data_count.set_index([\"new_id\", \"lat\", \"lng\"]), on=[\"new_id\", \"pickup_lat\", \"pickup_lng\"])"
   ]
  },
  {
   "cell_type": "code",
   "execution_count": 43,
   "metadata": {},
   "outputs": [
    {
     "data": {
      "text/plain": [
       "Index(['Unnamed: 0', 'pickup_lat', 'pickup_lng', 'destination_lat',\n",
       "       'destination_lng', 'real_destination_lat', 'real_destination_lng',\n",
       "       'finished', 'created', 'home_address_lat', 'home_address_lng',\n",
       "       'work_address_lat', 'work_address_lng', 'new_id', 'home_district',\n",
       "       'pickup_district', 'destination_district', 'work_district', 'weekday',\n",
       "       'time_window', 'visit_count_destination', 'visit_count_pickup'],\n",
       "      dtype='object')"
      ]
     },
     "execution_count": 43,
     "metadata": {},
     "output_type": "execute_result"
    }
   ],
   "source": [
    "data = data.rename(columns={\"visit_count\": \"visit_count_pickup\"})\n",
    "data.columns"
   ]
  },
  {
   "cell_type": "code",
   "execution_count": 44,
   "metadata": {},
   "outputs": [],
   "source": [
    "import numpy as np"
   ]
  },
  {
   "cell_type": "code",
   "execution_count": 45,
   "metadata": {},
   "outputs": [],
   "source": [
    "# create y column with Nan values\n",
    "data[\"y_pickup\"] = np.nan"
   ]
  },
  {
   "cell_type": "code",
   "execution_count": 46,
   "metadata": {},
   "outputs": [],
   "source": [
    "# create y column with Nan values\n",
    "data[\"y_destination\"] = np.nan"
   ]
  },
  {
   "cell_type": "code",
   "execution_count": 47,
   "metadata": {},
   "outputs": [],
   "source": [
    "# Destination: assign y value 1 to rides ending at home\n",
    "data.loc[(data[\"real_destination_lat\"] == data[\"home_address_lat\"]) & (data[\"real_destination_lng\"] == data[\"home_address_lng\"]),\"y_destination\"]=1"
   ]
  },
  {
   "cell_type": "code",
   "execution_count": 48,
   "metadata": {},
   "outputs": [],
   "source": [
    "# Pickup: assign y value 1 to rides starting from home\n",
    "data.loc[(data[\"pickup_lat\"] == data[\"home_address_lat\"]) & (data[\"pickup_lng\"] == data[\"home_address_lng\"]),\"y_pickup\"]=1"
   ]
  },
  {
   "cell_type": "code",
   "execution_count": 49,
   "metadata": {},
   "outputs": [
    {
     "data": {
      "text/plain": [
       "Unnamed: 0                 65102\n",
       "pickup_lat                 65102\n",
       "pickup_lng                 65102\n",
       "destination_lat            65074\n",
       "destination_lng            65071\n",
       "real_destination_lat       58521\n",
       "real_destination_lng       58521\n",
       "finished                   65102\n",
       "created                    65102\n",
       "home_address_lat           38682\n",
       "home_address_lng           38682\n",
       "work_address_lat           22588\n",
       "work_address_lng           22588\n",
       "new_id                     65102\n",
       "home_district              27296\n",
       "pickup_district            60152\n",
       "destination_district       53047\n",
       "work_district              16578\n",
       "weekday                    65102\n",
       "time_window                65102\n",
       "visit_count_destination    58521\n",
       "visit_count_pickup         65102\n",
       "y_pickup                    6903\n",
       "y_destination               3878\n",
       "dtype: int64"
      ]
     },
     "execution_count": 49,
     "metadata": {},
     "output_type": "execute_result"
    }
   ],
   "source": [
    "data.count()"
   ]
  },
  {
   "cell_type": "code",
   "execution_count": 50,
   "metadata": {},
   "outputs": [],
   "source": [
    "# Destination: assign y value 0 to rides ending at work\n",
    "data.loc[(data[\"real_destination_lat\"] == data[\"work_address_lat\"]) & (data[\"real_destination_lng\"] == data[\"work_address_lng\"]),\"y_destination\"]=0"
   ]
  },
  {
   "cell_type": "code",
   "execution_count": 51,
   "metadata": {},
   "outputs": [],
   "source": [
    "# Pickup: assign y value 0 to rides starting from work\n",
    "data.loc[(data[\"pickup_lat\"] == data[\"work_address_lat\"]) & (data[\"pickup_lng\"] == data[\"work_address_lng\"]),\"y_pickup\"]=0"
   ]
  },
  {
   "cell_type": "code",
   "execution_count": 52,
   "metadata": {},
   "outputs": [
    {
     "data": {
      "text/plain": [
       "Unnamed: 0                 65102\n",
       "pickup_lat                 65102\n",
       "pickup_lng                 65102\n",
       "destination_lat            65074\n",
       "destination_lng            65071\n",
       "real_destination_lat       58521\n",
       "real_destination_lng       58521\n",
       "finished                   65102\n",
       "created                    65102\n",
       "home_address_lat           38682\n",
       "home_address_lng           38682\n",
       "work_address_lat           22588\n",
       "work_address_lng           22588\n",
       "new_id                     65102\n",
       "home_district              27296\n",
       "pickup_district            60152\n",
       "destination_district       53047\n",
       "work_district              16578\n",
       "weekday                    65102\n",
       "time_window                65102\n",
       "visit_count_destination    58521\n",
       "visit_count_pickup         65102\n",
       "y_pickup                    7072\n",
       "y_destination               4043\n",
       "dtype: int64"
      ]
     },
     "execution_count": 52,
     "metadata": {},
     "output_type": "execute_result"
    }
   ],
   "source": [
    "data.count()"
   ]
  },
  {
   "cell_type": "code",
   "execution_count": 53,
   "metadata": {},
   "outputs": [],
   "source": [
    "# Destination: assign y value 0 to rides which start from home\n",
    "data.loc[(data[\"pickup_lat\"] == data[\"home_address_lat\"]) & (data[\"pickup_lng\"] == data[\"home_address_lng\"]), \"y_destination\"]=0"
   ]
  },
  {
   "cell_type": "code",
   "execution_count": 54,
   "metadata": {},
   "outputs": [],
   "source": [
    "# Pickup: assign y value 0 to rides which end at home\n",
    "data.loc[(data[\"real_destination_lat\"] == data[\"home_address_lat\"]) & (data[\"real_destination_lng\"] == data[\"home_address_lng\"]), \"y_pickup\"]=0"
   ]
  },
  {
   "cell_type": "code",
   "execution_count": 55,
   "metadata": {},
   "outputs": [
    {
     "data": {
      "text/plain": [
       "Unnamed: 0                 65102\n",
       "pickup_lat                 65102\n",
       "pickup_lng                 65102\n",
       "destination_lat            65074\n",
       "destination_lng            65071\n",
       "real_destination_lat       58521\n",
       "real_destination_lng       58521\n",
       "finished                   65102\n",
       "created                    65102\n",
       "home_address_lat           38682\n",
       "home_address_lng           38682\n",
       "work_address_lat           22588\n",
       "work_address_lng           22588\n",
       "new_id                     65102\n",
       "home_district              27296\n",
       "pickup_district            60152\n",
       "destination_district       53047\n",
       "work_district              16578\n",
       "weekday                    65102\n",
       "time_window                65102\n",
       "visit_count_destination    58521\n",
       "visit_count_pickup         65102\n",
       "y_pickup                   10891\n",
       "y_destination              10852\n",
       "dtype: int64"
      ]
     },
     "execution_count": 55,
     "metadata": {},
     "output_type": "execute_result"
    }
   ],
   "source": [
    "data.count()"
   ]
  },
  {
   "cell_type": "code",
   "execution_count": 56,
   "metadata": {},
   "outputs": [],
   "source": [
    "# Destination: assign y value 0 to rides which have home address coordinates and which do not end at home - it also overwrites the previous\n",
    "data.loc[data[\"home_district\"].notna() & (data[\"destination_lng\"] != data[\"home_address_lng\"]), \"y_destination\"]=0"
   ]
  },
  {
   "cell_type": "code",
   "execution_count": 57,
   "metadata": {},
   "outputs": [],
   "source": [
    "# Pickup: assign y value 0 to rides which have home address coordinates and which do not start at home - it also overwrites the previous\n",
    "data.loc[data[\"home_district\"].notna() & (data[\"pickup_lng\"] != data[\"home_address_lng\"]), \"y_pickup\"]=0"
   ]
  },
  {
   "cell_type": "code",
   "execution_count": 58,
   "metadata": {},
   "outputs": [
    {
     "data": {
      "text/plain": [
       "Unnamed: 0                 65102\n",
       "pickup_lat                 65102\n",
       "pickup_lng                 65102\n",
       "destination_lat            65074\n",
       "destination_lng            65071\n",
       "real_destination_lat       58521\n",
       "real_destination_lng       58521\n",
       "finished                   65102\n",
       "created                    65102\n",
       "home_address_lat           38682\n",
       "home_address_lng           38682\n",
       "work_address_lat           22588\n",
       "work_address_lng           22588\n",
       "new_id                     65102\n",
       "home_district              27296\n",
       "pickup_district            60152\n",
       "destination_district       53047\n",
       "work_district              16578\n",
       "weekday                    65102\n",
       "time_window                65102\n",
       "visit_count_destination    58521\n",
       "visit_count_pickup         65102\n",
       "y_pickup                   27819\n",
       "y_destination              24726\n",
       "dtype: int64"
      ]
     },
     "execution_count": 58,
     "metadata": {},
     "output_type": "execute_result"
    }
   ],
   "source": [
    "data.count()"
   ]
  },
  {
   "cell_type": "code",
   "execution_count": 59,
   "metadata": {},
   "outputs": [],
   "source": [
    "#DEstination: create train-test dataset from rides with y value\n",
    "dataset_dest = data.dropna(subset=[\"y_destination\"])"
   ]
  },
  {
   "cell_type": "code",
   "execution_count": 60,
   "metadata": {},
   "outputs": [],
   "source": [
    "#Pickup: create train-test dataset from rides with y value\n",
    "dataset_pick = data.dropna(subset=[\"y_pickup\"])"
   ]
  },
  {
   "cell_type": "code",
   "execution_count": 61,
   "metadata": {},
   "outputs": [
    {
     "data": {
      "text/html": [
       "<div>\n",
       "<style scoped>\n",
       "    .dataframe tbody tr th:only-of-type {\n",
       "        vertical-align: middle;\n",
       "    }\n",
       "\n",
       "    .dataframe tbody tr th {\n",
       "        vertical-align: top;\n",
       "    }\n",
       "\n",
       "    .dataframe thead th {\n",
       "        text-align: right;\n",
       "    }\n",
       "</style>\n",
       "<table border=\"1\" class=\"dataframe\">\n",
       "  <thead>\n",
       "    <tr style=\"text-align: right;\">\n",
       "      <th></th>\n",
       "      <th>Unnamed: 0</th>\n",
       "      <th>pickup_lat</th>\n",
       "      <th>pickup_lng</th>\n",
       "      <th>destination_lat</th>\n",
       "      <th>destination_lng</th>\n",
       "      <th>real_destination_lat</th>\n",
       "      <th>real_destination_lng</th>\n",
       "      <th>finished</th>\n",
       "      <th>created</th>\n",
       "      <th>home_address_lat</th>\n",
       "      <th>...</th>\n",
       "      <th>home_district</th>\n",
       "      <th>pickup_district</th>\n",
       "      <th>destination_district</th>\n",
       "      <th>work_district</th>\n",
       "      <th>weekday</th>\n",
       "      <th>time_window</th>\n",
       "      <th>visit_count_destination</th>\n",
       "      <th>visit_count_pickup</th>\n",
       "      <th>y_pickup</th>\n",
       "      <th>y_destination</th>\n",
       "    </tr>\n",
       "  </thead>\n",
       "  <tbody>\n",
       "    <tr>\n",
       "      <th>4</th>\n",
       "      <td>4</td>\n",
       "      <td>58.384</td>\n",
       "      <td>26.757</td>\n",
       "      <td>58.378</td>\n",
       "      <td>26.685</td>\n",
       "      <td>58.378</td>\n",
       "      <td>26.685</td>\n",
       "      <td>1</td>\n",
       "      <td>2019-04-30 06:39:34</td>\n",
       "      <td>58.384</td>\n",
       "      <td>...</td>\n",
       "      <td>Jaamamõisa</td>\n",
       "      <td>Jaamamõisa</td>\n",
       "      <td>Veeriku</td>\n",
       "      <td>NaN</td>\n",
       "      <td>Tuesday</td>\n",
       "      <td>6</td>\n",
       "      <td>1.0</td>\n",
       "      <td>15</td>\n",
       "      <td>1.0</td>\n",
       "      <td>0.0</td>\n",
       "    </tr>\n",
       "    <tr>\n",
       "      <th>5</th>\n",
       "      <td>5</td>\n",
       "      <td>58.356</td>\n",
       "      <td>26.721</td>\n",
       "      <td>58.360</td>\n",
       "      <td>26.731</td>\n",
       "      <td>NaN</td>\n",
       "      <td>NaN</td>\n",
       "      <td>0</td>\n",
       "      <td>2019-04-30 18:34:23</td>\n",
       "      <td>58.354</td>\n",
       "      <td>...</td>\n",
       "      <td>Ropka</td>\n",
       "      <td>Ropka</td>\n",
       "      <td>NaN</td>\n",
       "      <td>NaN</td>\n",
       "      <td>Tuesday</td>\n",
       "      <td>18</td>\n",
       "      <td>NaN</td>\n",
       "      <td>2</td>\n",
       "      <td>0.0</td>\n",
       "      <td>0.0</td>\n",
       "    </tr>\n",
       "    <tr>\n",
       "      <th>7</th>\n",
       "      <td>7</td>\n",
       "      <td>58.382</td>\n",
       "      <td>26.722</td>\n",
       "      <td>58.374</td>\n",
       "      <td>26.716</td>\n",
       "      <td>58.375</td>\n",
       "      <td>26.718</td>\n",
       "      <td>1</td>\n",
       "      <td>2019-04-19 23:45:36</td>\n",
       "      <td>58.357</td>\n",
       "      <td>...</td>\n",
       "      <td>Ropka</td>\n",
       "      <td>Kesklinna</td>\n",
       "      <td>Kesklinna</td>\n",
       "      <td>Ropka</td>\n",
       "      <td>Friday</td>\n",
       "      <td>23</td>\n",
       "      <td>15.0</td>\n",
       "      <td>2</td>\n",
       "      <td>0.0</td>\n",
       "      <td>0.0</td>\n",
       "    </tr>\n",
       "    <tr>\n",
       "      <th>14</th>\n",
       "      <td>14</td>\n",
       "      <td>58.334</td>\n",
       "      <td>26.708</td>\n",
       "      <td>58.380</td>\n",
       "      <td>26.744</td>\n",
       "      <td>58.380</td>\n",
       "      <td>26.744</td>\n",
       "      <td>1</td>\n",
       "      <td>2019-04-04 21:28:57</td>\n",
       "      <td>58.380</td>\n",
       "      <td>...</td>\n",
       "      <td>Annelinna</td>\n",
       "      <td>NaN</td>\n",
       "      <td>Annelinna</td>\n",
       "      <td>NaN</td>\n",
       "      <td>Thursday</td>\n",
       "      <td>21</td>\n",
       "      <td>1.0</td>\n",
       "      <td>2</td>\n",
       "      <td>0.0</td>\n",
       "      <td>1.0</td>\n",
       "    </tr>\n",
       "    <tr>\n",
       "      <th>19</th>\n",
       "      <td>19</td>\n",
       "      <td>58.383</td>\n",
       "      <td>26.736</td>\n",
       "      <td>58.369</td>\n",
       "      <td>26.772</td>\n",
       "      <td>58.369</td>\n",
       "      <td>26.773</td>\n",
       "      <td>1</td>\n",
       "      <td>2019-04-09 13:09:49</td>\n",
       "      <td>58.371</td>\n",
       "      <td>...</td>\n",
       "      <td>Annelinna</td>\n",
       "      <td>Ülejõe</td>\n",
       "      <td>Annelinna</td>\n",
       "      <td>NaN</td>\n",
       "      <td>Tuesday</td>\n",
       "      <td>13</td>\n",
       "      <td>2.0</td>\n",
       "      <td>17</td>\n",
       "      <td>0.0</td>\n",
       "      <td>0.0</td>\n",
       "    </tr>\n",
       "    <tr>\n",
       "      <th>...</th>\n",
       "      <td>...</td>\n",
       "      <td>...</td>\n",
       "      <td>...</td>\n",
       "      <td>...</td>\n",
       "      <td>...</td>\n",
       "      <td>...</td>\n",
       "      <td>...</td>\n",
       "      <td>...</td>\n",
       "      <td>...</td>\n",
       "      <td>...</td>\n",
       "      <td>...</td>\n",
       "      <td>...</td>\n",
       "      <td>...</td>\n",
       "      <td>...</td>\n",
       "      <td>...</td>\n",
       "      <td>...</td>\n",
       "      <td>...</td>\n",
       "      <td>...</td>\n",
       "      <td>...</td>\n",
       "      <td>...</td>\n",
       "      <td>...</td>\n",
       "    </tr>\n",
       "    <tr>\n",
       "      <th>65089</th>\n",
       "      <td>65089</td>\n",
       "      <td>58.378</td>\n",
       "      <td>26.709</td>\n",
       "      <td>58.373</td>\n",
       "      <td>26.750</td>\n",
       "      <td>NaN</td>\n",
       "      <td>NaN</td>\n",
       "      <td>0</td>\n",
       "      <td>2019-04-01 04:44:14</td>\n",
       "      <td>58.378</td>\n",
       "      <td>...</td>\n",
       "      <td>Vaksali</td>\n",
       "      <td>Vaksali</td>\n",
       "      <td>NaN</td>\n",
       "      <td>Annelinna</td>\n",
       "      <td>Monday</td>\n",
       "      <td>4</td>\n",
       "      <td>NaN</td>\n",
       "      <td>40</td>\n",
       "      <td>1.0</td>\n",
       "      <td>0.0</td>\n",
       "    </tr>\n",
       "    <tr>\n",
       "      <th>65090</th>\n",
       "      <td>65090</td>\n",
       "      <td>58.384</td>\n",
       "      <td>26.728</td>\n",
       "      <td>58.396</td>\n",
       "      <td>26.716</td>\n",
       "      <td>58.396</td>\n",
       "      <td>26.713</td>\n",
       "      <td>1</td>\n",
       "      <td>2019-04-04 04:50:38</td>\n",
       "      <td>58.384</td>\n",
       "      <td>...</td>\n",
       "      <td>Ülejõe</td>\n",
       "      <td>Ülejõe</td>\n",
       "      <td>Raadi-Kruusamäe</td>\n",
       "      <td>Raadi-Kruusamäe</td>\n",
       "      <td>Thursday</td>\n",
       "      <td>4</td>\n",
       "      <td>6.0</td>\n",
       "      <td>7</td>\n",
       "      <td>0.0</td>\n",
       "      <td>0.0</td>\n",
       "    </tr>\n",
       "    <tr>\n",
       "      <th>65097</th>\n",
       "      <td>65097</td>\n",
       "      <td>58.346</td>\n",
       "      <td>26.726</td>\n",
       "      <td>58.369</td>\n",
       "      <td>26.718</td>\n",
       "      <td>58.369</td>\n",
       "      <td>26.717</td>\n",
       "      <td>1</td>\n",
       "      <td>2019-04-07 07:46:36</td>\n",
       "      <td>58.346</td>\n",
       "      <td>...</td>\n",
       "      <td>Ropka tööstuse</td>\n",
       "      <td>Ropka tööstuse</td>\n",
       "      <td>Vaksali</td>\n",
       "      <td>NaN</td>\n",
       "      <td>Sunday</td>\n",
       "      <td>7</td>\n",
       "      <td>1.0</td>\n",
       "      <td>2</td>\n",
       "      <td>1.0</td>\n",
       "      <td>0.0</td>\n",
       "    </tr>\n",
       "    <tr>\n",
       "      <th>65098</th>\n",
       "      <td>65098</td>\n",
       "      <td>58.361</td>\n",
       "      <td>26.698</td>\n",
       "      <td>58.377</td>\n",
       "      <td>26.725</td>\n",
       "      <td>58.377</td>\n",
       "      <td>26.725</td>\n",
       "      <td>1</td>\n",
       "      <td>2019-04-13 07:02:47</td>\n",
       "      <td>58.361</td>\n",
       "      <td>...</td>\n",
       "      <td>Tammelinna</td>\n",
       "      <td>Tammelinna</td>\n",
       "      <td>Kesklinna</td>\n",
       "      <td>Kesklinna</td>\n",
       "      <td>Saturday</td>\n",
       "      <td>7</td>\n",
       "      <td>5.0</td>\n",
       "      <td>36</td>\n",
       "      <td>1.0</td>\n",
       "      <td>0.0</td>\n",
       "    </tr>\n",
       "    <tr>\n",
       "      <th>65099</th>\n",
       "      <td>65099</td>\n",
       "      <td>58.378</td>\n",
       "      <td>26.727</td>\n",
       "      <td>58.375</td>\n",
       "      <td>26.762</td>\n",
       "      <td>58.375</td>\n",
       "      <td>26.762</td>\n",
       "      <td>1</td>\n",
       "      <td>2019-04-15 14:57:01</td>\n",
       "      <td>58.373</td>\n",
       "      <td>...</td>\n",
       "      <td>Karlova</td>\n",
       "      <td>Kesklinna</td>\n",
       "      <td>Annelinna</td>\n",
       "      <td>NaN</td>\n",
       "      <td>Monday</td>\n",
       "      <td>14</td>\n",
       "      <td>10.0</td>\n",
       "      <td>1</td>\n",
       "      <td>0.0</td>\n",
       "      <td>0.0</td>\n",
       "    </tr>\n",
       "  </tbody>\n",
       "</table>\n",
       "<p>24726 rows × 24 columns</p>\n",
       "</div>"
      ],
      "text/plain": [
       "       Unnamed: 0  pickup_lat  pickup_lng  destination_lat  destination_lng  \\\n",
       "4               4      58.384      26.757           58.378           26.685   \n",
       "5               5      58.356      26.721           58.360           26.731   \n",
       "7               7      58.382      26.722           58.374           26.716   \n",
       "14             14      58.334      26.708           58.380           26.744   \n",
       "19             19      58.383      26.736           58.369           26.772   \n",
       "...           ...         ...         ...              ...              ...   \n",
       "65089       65089      58.378      26.709           58.373           26.750   \n",
       "65090       65090      58.384      26.728           58.396           26.716   \n",
       "65097       65097      58.346      26.726           58.369           26.718   \n",
       "65098       65098      58.361      26.698           58.377           26.725   \n",
       "65099       65099      58.378      26.727           58.375           26.762   \n",
       "\n",
       "       real_destination_lat  real_destination_lng  finished  \\\n",
       "4                    58.378                26.685         1   \n",
       "5                       NaN                   NaN         0   \n",
       "7                    58.375                26.718         1   \n",
       "14                   58.380                26.744         1   \n",
       "19                   58.369                26.773         1   \n",
       "...                     ...                   ...       ...   \n",
       "65089                   NaN                   NaN         0   \n",
       "65090                58.396                26.713         1   \n",
       "65097                58.369                26.717         1   \n",
       "65098                58.377                26.725         1   \n",
       "65099                58.375                26.762         1   \n",
       "\n",
       "                   created  home_address_lat  ...   home_district  \\\n",
       "4      2019-04-30 06:39:34            58.384  ...      Jaamamõisa   \n",
       "5      2019-04-30 18:34:23            58.354  ...           Ropka   \n",
       "7      2019-04-19 23:45:36            58.357  ...           Ropka   \n",
       "14     2019-04-04 21:28:57            58.380  ...       Annelinna   \n",
       "19     2019-04-09 13:09:49            58.371  ...       Annelinna   \n",
       "...                    ...               ...  ...             ...   \n",
       "65089  2019-04-01 04:44:14            58.378  ...         Vaksali   \n",
       "65090  2019-04-04 04:50:38            58.384  ...          Ülejõe   \n",
       "65097  2019-04-07 07:46:36            58.346  ...  Ropka tööstuse   \n",
       "65098  2019-04-13 07:02:47            58.361  ...      Tammelinna   \n",
       "65099  2019-04-15 14:57:01            58.373  ...         Karlova   \n",
       "\n",
       "       pickup_district  destination_district    work_district   weekday  \\\n",
       "4           Jaamamõisa               Veeriku              NaN   Tuesday   \n",
       "5                Ropka                   NaN              NaN   Tuesday   \n",
       "7            Kesklinna             Kesklinna            Ropka    Friday   \n",
       "14                 NaN             Annelinna              NaN  Thursday   \n",
       "19              Ülejõe             Annelinna              NaN   Tuesday   \n",
       "...                ...                   ...              ...       ...   \n",
       "65089          Vaksali                   NaN        Annelinna    Monday   \n",
       "65090           Ülejõe       Raadi-Kruusamäe  Raadi-Kruusamäe  Thursday   \n",
       "65097   Ropka tööstuse               Vaksali              NaN    Sunday   \n",
       "65098       Tammelinna             Kesklinna        Kesklinna  Saturday   \n",
       "65099        Kesklinna             Annelinna              NaN    Monday   \n",
       "\n",
       "      time_window visit_count_destination visit_count_pickup y_pickup  \\\n",
       "4               6                     1.0                 15      1.0   \n",
       "5              18                     NaN                  2      0.0   \n",
       "7              23                    15.0                  2      0.0   \n",
       "14             21                     1.0                  2      0.0   \n",
       "19             13                     2.0                 17      0.0   \n",
       "...           ...                     ...                ...      ...   \n",
       "65089           4                     NaN                 40      1.0   \n",
       "65090           4                     6.0                  7      0.0   \n",
       "65097           7                     1.0                  2      1.0   \n",
       "65098           7                     5.0                 36      1.0   \n",
       "65099          14                    10.0                  1      0.0   \n",
       "\n",
       "      y_destination  \n",
       "4               0.0  \n",
       "5               0.0  \n",
       "7               0.0  \n",
       "14              1.0  \n",
       "19              0.0  \n",
       "...             ...  \n",
       "65089           0.0  \n",
       "65090           0.0  \n",
       "65097           0.0  \n",
       "65098           0.0  \n",
       "65099           0.0  \n",
       "\n",
       "[24726 rows x 24 columns]"
      ]
     },
     "execution_count": 61,
     "metadata": {},
     "output_type": "execute_result"
    }
   ],
   "source": [
    "dataset_dest"
   ]
  },
  {
   "cell_type": "code",
   "execution_count": 62,
   "metadata": {},
   "outputs": [],
   "source": [
    "# Destination: separate features and label\n",
    "dataset_dest_X = dataset_dest[[\"destination_district\", \"pickup_district\", \"weekday\", \"time_window\", \"visit_count_destination\", \"visit_count_pickup\"]]\n",
    "dataset_dest_Y = dataset_dest[\"y_destination\"]"
   ]
  },
  {
   "cell_type": "code",
   "execution_count": 63,
   "metadata": {},
   "outputs": [],
   "source": [
    "# Pickup: separate features and label\n",
    "dataset_pick_X = dataset_pick[[\"destination_district\", \"pickup_district\", \"weekday\", \"time_window\", \"visit_count_destination\", \"visit_count_pickup\"]]\n",
    "dataset_pick_Y = dataset_pick[\"y_pickup\"]"
   ]
  },
  {
   "cell_type": "code",
   "execution_count": 64,
   "metadata": {},
   "outputs": [],
   "source": [
    "# Destination: one-hot coding\n",
    "dataset_dest_X = pd.get_dummies(dataset_dest_X, columns=[\"destination_district\", \"pickup_district\",\"weekday\", \"time_window\"])"
   ]
  },
  {
   "cell_type": "code",
   "execution_count": 65,
   "metadata": {},
   "outputs": [],
   "source": [
    "# Pickup: one-hot coding\n",
    "dataset_pick_X = pd.get_dummies(dataset_pick_X, columns=[\"destination_district\", \"pickup_district\",\"weekday\", \"time_window\"])"
   ]
  },
  {
   "cell_type": "code",
   "execution_count": 66,
   "metadata": {},
   "outputs": [],
   "source": [
    "# Destination: replace NaN with 0\n",
    "dataset_dest_X = dataset_dest_X.fillna(0)"
   ]
  },
  {
   "cell_type": "code",
   "execution_count": 67,
   "metadata": {},
   "outputs": [],
   "source": [
    "# Pickup: replace NaN with 0\n",
    "dataset_pick_X = dataset_pick_X.fillna(0)"
   ]
  },
  {
   "cell_type": "code",
   "execution_count": 68,
   "metadata": {},
   "outputs": [
    {
     "name": "stdout",
     "output_type": "stream",
     "text": [
      "(19780, 69) (4946, 69) (19780,) (4946,)\n"
     ]
    }
   ],
   "source": [
    "from sklearn.model_selection import train_test_split\n",
    "\n",
    "#Destination:train-test-split\n",
    "X_train_dest, X_test_dest, y_train_dest, y_test_dest = train_test_split(dataset_dest_X, dataset_dest_Y, test_size=0.2, random_state=0)   \n",
    "print(X_train_dest.shape, X_test_dest.shape, y_train_dest.shape, y_test_dest.shape) "
   ]
  },
  {
   "cell_type": "code",
   "execution_count": 69,
   "metadata": {},
   "outputs": [
    {
     "name": "stdout",
     "output_type": "stream",
     "text": [
      "(22255, 69) (5564, 69) (22255,) (5564,)\n"
     ]
    }
   ],
   "source": [
    "#Pickup: train-test-split\n",
    "X_train_pick, X_test_pick, y_train_pick, y_test_pick = train_test_split(dataset_pick_X, dataset_pick_Y, test_size=0.2, random_state=0)   \n",
    "print(X_train_pick.shape, X_test_pick.shape, y_train_pick.shape, y_test_pick.shape) "
   ]
  },
  {
   "cell_type": "code",
   "execution_count": 70,
   "metadata": {},
   "outputs": [],
   "source": [
    "from sklearn.ensemble import RandomForestClassifier\n",
    "\n",
    "rfc_dest = RandomForestClassifier().fit(X_train_dest, y_train_dest)\n",
    "rfc_pick = RandomForestClassifier().fit(X_train_pick, y_train_pick)"
   ]
  },
  {
   "cell_type": "code",
   "execution_count": 71,
   "metadata": {},
   "outputs": [],
   "source": [
    "rfc_dest_result = rfc_dest.predict(X_test_dest)\n",
    "rfc_pick_result = rfc_pick.predict(X_test_pick)"
   ]
  },
  {
   "cell_type": "code",
   "execution_count": 72,
   "metadata": {},
   "outputs": [
    {
     "data": {
      "text/plain": [
       "0.8843509906995553"
      ]
     },
     "execution_count": 72,
     "metadata": {},
     "output_type": "execute_result"
    }
   ],
   "source": [
    "from sklearn.metrics import accuracy_score\n",
    "\n",
    "accuracy_score(y_test_dest, rfc_dest_result)"
   ]
  },
  {
   "cell_type": "code",
   "execution_count": 73,
   "metadata": {},
   "outputs": [
    {
     "data": {
      "text/plain": [
       "0.8215312724658519"
      ]
     },
     "execution_count": 73,
     "metadata": {},
     "output_type": "execute_result"
    }
   ],
   "source": [
    "accuracy_score(y_test_pick, rfc_pick_result)"
   ]
  },
  {
   "cell_type": "code",
   "execution_count": 74,
   "metadata": {},
   "outputs": [
    {
     "data": {
      "text/plain": [
       "0.8732308936514355"
      ]
     },
     "execution_count": 74,
     "metadata": {},
     "output_type": "execute_result"
    }
   ],
   "source": [
    "from sklearn.ensemble import ExtraTreesClassifier\n",
    "#Destination\n",
    "etc_dest = ExtraTreesClassifier().fit(X_train_dest, y_train_dest)\n",
    "etc_dest_result = etc_dest.predict(X_test_dest)\n",
    "accuracy_score(y_test_dest, etc_dest_result)"
   ]
  },
  {
   "cell_type": "code",
   "execution_count": 75,
   "metadata": {},
   "outputs": [
    {
     "data": {
      "text/plain": [
       "0.8010424155283968"
      ]
     },
     "execution_count": 75,
     "metadata": {},
     "output_type": "execute_result"
    }
   ],
   "source": [
    "#Pickup\n",
    "etc_pick = ExtraTreesClassifier().fit(X_train_pick, y_train_pick)\n",
    "etc_pick_result = etc_pick.predict(X_test_pick)\n",
    "accuracy_score(y_test_pick, etc_pick_result)"
   ]
  },
  {
   "cell_type": "code",
   "execution_count": 76,
   "metadata": {},
   "outputs": [
    {
     "data": {
      "text/plain": [
       "0.8724221593206631"
      ]
     },
     "execution_count": 76,
     "metadata": {},
     "output_type": "execute_result"
    }
   ],
   "source": [
    "from sklearn.ensemble import GradientBoostingClassifier\n",
    "#Destination\n",
    "gbc_dest = GradientBoostingClassifier().fit(X_train_dest, y_train_dest)\n",
    "gbc_dest_result = gbc_dest.predict(X_test_dest)\n",
    "accuracy_score(y_test_dest, gbc_dest_result)"
   ]
  },
  {
   "cell_type": "code",
   "execution_count": 77,
   "metadata": {},
   "outputs": [
    {
     "data": {
      "text/plain": [
       "0.7983465132997843"
      ]
     },
     "execution_count": 77,
     "metadata": {},
     "output_type": "execute_result"
    }
   ],
   "source": [
    "#Pickup\n",
    "gbc_pick = GradientBoostingClassifier().fit(X_train_pick, y_train_pick)\n",
    "gbc_pick_result = gbc_pick.predict(X_test_pick)\n",
    "accuracy_score(y_test_pick, gbc_pick_result)"
   ]
  },
  {
   "cell_type": "code",
   "execution_count": 78,
   "metadata": {},
   "outputs": [],
   "source": [
    "# Destination: select rides with no y value (no home coordinates) to get prediction dataset\n",
    "prediction_data_dest = data[data.y_destination.isna() & data[\"home_address_lat\"].isna()]"
   ]
  },
  {
   "cell_type": "code",
   "execution_count": 79,
   "metadata": {},
   "outputs": [],
   "source": [
    "# Pickup: select rides with no y value (no home coordinates) to get prediction dataset\n",
    "prediction_data_pick = data[data.y_pickup.isna() & data[\"home_address_lat\"].isna()]"
   ]
  },
  {
   "cell_type": "code",
   "execution_count": 80,
   "metadata": {},
   "outputs": [],
   "source": [
    "#Destination\n",
    "prediction_dest_X = prediction_data_dest[[\"destination_district\", \"pickup_district\", \"weekday\", \"time_window\", \"visit_count_destination\", \"visit_count_pickup\"]]"
   ]
  },
  {
   "cell_type": "code",
   "execution_count": 81,
   "metadata": {},
   "outputs": [],
   "source": [
    "#Pickup\n",
    "prediction_pick_X = prediction_data_pick[[\"destination_district\", \"pickup_district\", \"weekday\", \"time_window\", \"visit_count_destination\", \"visit_count_pickup\"]]"
   ]
  },
  {
   "cell_type": "code",
   "execution_count": 82,
   "metadata": {},
   "outputs": [],
   "source": [
    "#Destination\n",
    "prediction_dest_X = pd.get_dummies(prediction_dest_X, columns=[\"destination_district\", \"pickup_district\", \"weekday\", \"time_window\"])"
   ]
  },
  {
   "cell_type": "code",
   "execution_count": 83,
   "metadata": {},
   "outputs": [],
   "source": [
    "#Pickup\n",
    "prediction_pick_X = pd.get_dummies(prediction_pick_X, columns=[\"destination_district\", \"pickup_district\", \"weekday\", \"time_window\"])"
   ]
  },
  {
   "cell_type": "code",
   "execution_count": 84,
   "metadata": {},
   "outputs": [],
   "source": [
    "#Destination\n",
    "prediction_dest_X = prediction_dest_X.fillna(0) #fills visit nan with 0"
   ]
  },
  {
   "cell_type": "code",
   "execution_count": 85,
   "metadata": {},
   "outputs": [],
   "source": [
    "#Pickup\n",
    "prediction_pick_X = prediction_pick_X.fillna(0) #fills visit nan with 0"
   ]
  },
  {
   "cell_type": "code",
   "execution_count": 86,
   "metadata": {},
   "outputs": [],
   "source": [
    "real_home_data = data[~data[\"home_district\"].isna()]"
   ]
  },
  {
   "cell_type": "code",
   "execution_count": 87,
   "metadata": {},
   "outputs": [
    {
     "data": {
      "text/plain": [
       "<AxesSubplot:>"
      ]
     },
     "execution_count": 87,
     "metadata": {},
     "output_type": "execute_result"
    },
    {
     "data": {
      "image/png": "[encoded data removed]",
      "text/plain": [
       "<Figure size 432x288 with 1 Axes>"
      ]
     },
     "metadata": {
      "needs_background": "light"
     },
     "output_type": "display_data"
    }
   ],
   "source": [
    "real_home_data[\"home_district\"].value_counts().plot(kind=\"bar\")"
   ]
  },
  {
   "cell_type": "code",
   "execution_count": 88,
   "metadata": {},
   "outputs": [],
   "source": [
    "all_dest_1_data = data.loc[data[\"y_destination\"] == 1]"
   ]
  },
  {
   "cell_type": "code",
   "execution_count": 89,
   "metadata": {},
   "outputs": [
    {
     "data": {
      "text/plain": [
       "<AxesSubplot:>"
      ]
     },
     "execution_count": 89,
     "metadata": {},
     "output_type": "execute_result"
    },
    {
     "data": {
      "image/png": "[encoded data removed]",
      "text/plain": [
       "<Figure size 432x288 with 1 Axes>"
      ]
     },
     "metadata": {
      "needs_background": "light"
     },
     "output_type": "display_data"
    }
   ],
   "source": [
    "all_dest_1_data[\"destination_district\"].value_counts().plot(kind=\"bar\")"
   ]
  },
  {
   "cell_type": "code",
   "execution_count": 90,
   "metadata": {},
   "outputs": [],
   "source": [
    "all_dest_0_data = data.loc[data[\"y_destination\"] == 0]"
   ]
  },
  {
   "cell_type": "code",
   "execution_count": 91,
   "metadata": {},
   "outputs": [
    {
     "data": {
      "text/plain": [
       "<AxesSubplot:>"
      ]
     },
     "execution_count": 91,
     "metadata": {},
     "output_type": "execute_result"
    },
    {
     "data": {
      "image/png": "[encoded data removed]",
      "text/plain": [
       "<Figure size 432x288 with 1 Axes>"
      ]
     },
     "metadata": {
      "needs_background": "light"
     },
     "output_type": "display_data"
    }
   ],
   "source": [
    "all_dest_0_data[\"destination_district\"].value_counts().plot(kind=\"bar\")"
   ]
  },
  {
   "cell_type": "code",
   "execution_count": 92,
   "metadata": {},
   "outputs": [],
   "source": [
    "rfc_dest_result = rfc_dest.predict(prediction_dest_X)"
   ]
  },
  {
   "cell_type": "code",
   "execution_count": 93,
   "metadata": {},
   "outputs": [],
   "source": [
    "rfc_pick_result = rfc_pick.predict(prediction_pick_X)"
   ]
  },
  {
   "cell_type": "code",
   "execution_count": 94,
   "metadata": {},
   "outputs": [
    {
     "data": {
      "text/plain": [
       "1964.0"
      ]
     },
     "execution_count": 94,
     "metadata": {},
     "output_type": "execute_result"
    }
   ],
   "source": [
    "rfc_dest_result.sum()"
   ]
  },
  {
   "cell_type": "code",
   "execution_count": 95,
   "metadata": {},
   "outputs": [
    {
     "data": {
      "text/plain": [
       "3749.0"
      ]
     },
     "execution_count": 95,
     "metadata": {},
     "output_type": "execute_result"
    }
   ],
   "source": [
    "rfc_pick_result.sum()"
   ]
  },
  {
   "cell_type": "code",
   "execution_count": 96,
   "metadata": {},
   "outputs": [],
   "source": [
    "rfc_dest_prediction_data = prediction_data_dest[rfc_dest_result ==1]"
   ]
  },
  {
   "cell_type": "code",
   "execution_count": 97,
   "metadata": {},
   "outputs": [],
   "source": [
    "rfc_pick_prediction_data = prediction_data_pick[rfc_pick_result ==1]"
   ]
  },
  {
   "cell_type": "code",
   "execution_count": 98,
   "metadata": {},
   "outputs": [
    {
     "data": {
      "text/plain": [
       "<AxesSubplot:>"
      ]
     },
     "execution_count": 98,
     "metadata": {},
     "output_type": "execute_result"
    },
    {
     "data": {
      "image/png": "[encoded data removed]",
      "text/plain": [
       "<Figure size 432x288 with 1 Axes>"
      ]
     },
     "metadata": {
      "needs_background": "light"
     },
     "output_type": "display_data"
    }
   ],
   "source": [
    "rfc_dest_prediction_data[\"destination_district\"].value_counts().plot(kind=\"bar\")"
   ]
  },
  {
   "cell_type": "code",
   "execution_count": 99,
   "metadata": {},
   "outputs": [
    {
     "data": {
      "text/plain": [
       "<AxesSubplot:>"
      ]
     },
     "execution_count": 99,
     "metadata": {},
     "output_type": "execute_result"
    },
    {
     "data": {
      "image/png": "[encoded data removed]",
      "text/plain": [
       "<Figure size 432x288 with 1 Axes>"
      ]
     },
     "metadata": {
      "needs_background": "light"
     },
     "output_type": "display_data"
    }
   ],
   "source": [
    "rfc_pick_prediction_data[\"pickup_district\"].value_counts().plot(kind=\"bar\")"
   ]
  },
  {
   "cell_type": "code",
   "execution_count": 100,
   "metadata": {},
   "outputs": [
    {
     "data": {
      "text/plain": [
       "array([0., 1., 0., ..., 0., 0., 0.])"
      ]
     },
     "execution_count": 100,
     "metadata": {},
     "output_type": "execute_result"
    }
   ],
   "source": [
    "rfc_dest_result"
   ]
  },
  {
   "cell_type": "code",
   "execution_count": 101,
   "metadata": {},
   "outputs": [
    {
     "data": {
      "text/plain": [
       "array([0., 0., 0., ..., 0., 0., 0.])"
      ]
     },
     "execution_count": 101,
     "metadata": {},
     "output_type": "execute_result"
    }
   ],
   "source": [
    "rfc_pick_result"
   ]
  },
  {
   "cell_type": "code",
   "execution_count": 102,
   "metadata": {},
   "outputs": [],
   "source": [
    "data[\"pred_home_district_dest\"] = np.nan"
   ]
  },
  {
   "cell_type": "code",
   "execution_count": 103,
   "metadata": {},
   "outputs": [],
   "source": [
    "data[\"pred_home_district_pick\"] = np.nan"
   ]
  },
  {
   "cell_type": "code",
   "execution_count": 109,
   "metadata": {
    "scrolled": true
   },
   "outputs": [
    {
     "name": "stderr",
     "output_type": "stream",
     "text": [
      "C:\\Users\\Anne\\anaconda3\\envs\\bolt\\lib\\site-packages\\pandas\\core\\indexing.py:1743: SettingWithCopyWarning: \n",
      "A value is trying to be set on a copy of a slice from a DataFrame.\n",
      "Try using .loc[row_indexer,col_indexer] = value instead\n",
      "\n",
      "See the caveats in the documentation: https://pandas.pydata.org/pandas-docs/stable/user_guide/indexing.html#returning-a-view-versus-a-copy\n",
      "  isetter(ilocs[0], value)\n"
     ]
    }
   ],
   "source": [
    "#Destination: create predicted home district column to prediction data and assign district by destination district\n",
    "prediction_data_dest.loc[rfc_dest_result == 1, \"pred_home_district_dest\"] = prediction_data_dest.loc[rfc_dest_result == 1, \"destination_district\"]"
   ]
  },
  {
   "cell_type": "code",
   "execution_count": 110,
   "metadata": {},
   "outputs": [],
   "source": [
    "#Pickup: create predicted home district column to prediction data and assign district by pickup district\n",
    "prediction_data_pick.loc[rfc_pick_result == 1, \"pred_home_district_pick\"] = prediction_data_pick.loc[rfc_pick_result == 1, \"pickup_district\"]"
   ]
  },
  {
   "cell_type": "code",
   "execution_count": 111,
   "metadata": {},
   "outputs": [],
   "source": [
    "#Destination: merge results with DATA\n",
    "data.loc[prediction_data_dest.index, \"pred_home_district_dest\"] = prediction_data_dest[\"pred_home_district_dest\"]"
   ]
  },
  {
   "cell_type": "code",
   "execution_count": 112,
   "metadata": {},
   "outputs": [],
   "source": [
    "#Pickup: merge results with DATA\n",
    "data.loc[prediction_data_pick.index, \"pred_home_district_pick\"] = prediction_data_pick[\"pred_home_district_pick\"]"
   ]
  },
  {
   "cell_type": "code",
   "execution_count": 113,
   "metadata": {},
   "outputs": [
    {
     "data": {
      "text/plain": [
       "Unnamed: 0                 65102\n",
       "pickup_lat                 65102\n",
       "pickup_lng                 65102\n",
       "destination_lat            65074\n",
       "destination_lng            65071\n",
       "real_destination_lat       58521\n",
       "real_destination_lng       58521\n",
       "finished                   65102\n",
       "created                    65102\n",
       "home_address_lat           38682\n",
       "home_address_lng           38682\n",
       "work_address_lat           22588\n",
       "work_address_lng           22588\n",
       "new_id                     65102\n",
       "home_district              27296\n",
       "pickup_district            60152\n",
       "destination_district       53047\n",
       "work_district              16578\n",
       "weekday                    65102\n",
       "time_window                65102\n",
       "visit_count_destination    58521\n",
       "visit_count_pickup         65102\n",
       "y_pickup                   27819\n",
       "y_destination              24726\n",
       "pred_home_district_dest     1552\n",
       "pred_home_district_pick     3304\n",
       "dtype: int64"
      ]
     },
     "execution_count": 113,
     "metadata": {},
     "output_type": "execute_result"
    }
   ],
   "source": [
    "data.count()"
   ]
  },
  {
   "cell_type": "code",
   "execution_count": 114,
   "metadata": {},
   "outputs": [],
   "source": [
    "data.to_csv(\"Bolt_data_predicted_districts.csv\")"
   ]
  },
  {
   "cell_type": "code",
   "execution_count": 131,
   "metadata": {},
   "outputs": [],
   "source": [
    "population_data =  pd.read_csv(\"Users by district2.csv\", sep=',')"
   ]
  },
  {
   "cell_type": "code",
   "execution_count": 132,
   "metadata": {},
   "outputs": [
    {
     "data": {
      "text/html": [
       "<div>\n",
       "<style scoped>\n",
       "    .dataframe tbody tr th:only-of-type {\n",
       "        vertical-align: middle;\n",
       "    }\n",
       "\n",
       "    .dataframe tbody tr th {\n",
       "        vertical-align: top;\n",
       "    }\n",
       "\n",
       "    .dataframe thead th {\n",
       "        text-align: right;\n",
       "    }\n",
       "</style>\n",
       "<table border=\"1\" class=\"dataframe\">\n",
       "  <thead>\n",
       "    <tr style=\"text-align: right;\">\n",
       "      <th></th>\n",
       "      <th>district</th>\n",
       "      <th>population</th>\n",
       "      <th>bolt_users</th>\n",
       "      <th>predicted_users_destination</th>\n",
       "      <th>predicted_users_pickup</th>\n",
       "      <th>predicted_total</th>\n",
       "      <th>users_total</th>\n",
       "      <th>bolt_users_share</th>\n",
       "      <th>users_total_share</th>\n",
       "      <th>potential_growth_perc</th>\n",
       "      <th>potential_growth_abs</th>\n",
       "    </tr>\n",
       "  </thead>\n",
       "  <tbody>\n",
       "    <tr>\n",
       "      <th>0</th>\n",
       "      <td>Annelinn</td>\n",
       "      <td>24787</td>\n",
       "      <td>980</td>\n",
       "      <td>35</td>\n",
       "      <td>91</td>\n",
       "      <td>126</td>\n",
       "      <td>1106</td>\n",
       "      <td>3.95</td>\n",
       "      <td>4.46</td>\n",
       "      <td>7.95</td>\n",
       "      <td>1971</td>\n",
       "    </tr>\n",
       "    <tr>\n",
       "      <th>1</th>\n",
       "      <td>Ihaste</td>\n",
       "      <td>2680</td>\n",
       "      <td>159</td>\n",
       "      <td>28</td>\n",
       "      <td>31</td>\n",
       "      <td>59</td>\n",
       "      <td>218</td>\n",
       "      <td>5.93</td>\n",
       "      <td>8.13</td>\n",
       "      <td>4.28</td>\n",
       "      <td>115</td>\n",
       "    </tr>\n",
       "    <tr>\n",
       "      <th>2</th>\n",
       "      <td>Jaamamõisa</td>\n",
       "      <td>3332</td>\n",
       "      <td>173</td>\n",
       "      <td>8</td>\n",
       "      <td>20</td>\n",
       "      <td>28</td>\n",
       "      <td>201</td>\n",
       "      <td>5.19</td>\n",
       "      <td>6.03</td>\n",
       "      <td>6.38</td>\n",
       "      <td>213</td>\n",
       "    </tr>\n",
       "    <tr>\n",
       "      <th>3</th>\n",
       "      <td>Kesklinn</td>\n",
       "      <td>6532</td>\n",
       "      <td>603</td>\n",
       "      <td>6</td>\n",
       "      <td>40</td>\n",
       "      <td>46</td>\n",
       "      <td>649</td>\n",
       "      <td>9.23</td>\n",
       "      <td>9.94</td>\n",
       "      <td>2.48</td>\n",
       "      <td>162</td>\n",
       "    </tr>\n",
       "    <tr>\n",
       "      <th>4</th>\n",
       "      <td>Karlova</td>\n",
       "      <td>8482</td>\n",
       "      <td>650</td>\n",
       "      <td>41</td>\n",
       "      <td>68</td>\n",
       "      <td>109</td>\n",
       "      <td>759</td>\n",
       "      <td>7.66</td>\n",
       "      <td>8.95</td>\n",
       "      <td>3.47</td>\n",
       "      <td>294</td>\n",
       "    </tr>\n",
       "  </tbody>\n",
       "</table>\n",
       "</div>"
      ],
      "text/plain": [
       "     district  population  bolt_users  predicted_users_destination  \\\n",
       "0    Annelinn       24787         980                           35   \n",
       "1      Ihaste        2680         159                           28   \n",
       "2  Jaamamõisa        3332         173                            8   \n",
       "3    Kesklinn        6532         603                            6   \n",
       "4     Karlova        8482         650                           41   \n",
       "\n",
       "   predicted_users_pickup  predicted_total  users_total  bolt_users_share  \\\n",
       "0                      91              126         1106              3.95   \n",
       "1                      31               59          218              5.93   \n",
       "2                      20               28          201              5.19   \n",
       "3                      40               46          649              9.23   \n",
       "4                      68              109          759              7.66   \n",
       "\n",
       "   users_total_share  potential_growth_perc  potential_growth_abs  \n",
       "0               4.46                   7.95                  1971  \n",
       "1               8.13                   4.28                   115  \n",
       "2               6.03                   6.38                   213  \n",
       "3               9.94                   2.48                   162  \n",
       "4               8.95                   3.47                   294  "
      ]
     },
     "execution_count": 132,
     "metadata": {},
     "output_type": "execute_result"
    }
   ],
   "source": [
    "population_data.head()"
   ]
  },
  {
   "cell_type": "code",
   "execution_count": 133,
   "metadata": {},
   "outputs": [],
   "source": [
    "population_data=population_data.rename(columns={\"district\": \"NIMI\"})"
   ]
  },
  {
   "cell_type": "code",
   "execution_count": 134,
   "metadata": {},
   "outputs": [
    {
     "data": {
      "text/html": [
       "<div>\n",
       "<style scoped>\n",
       "    .dataframe tbody tr th:only-of-type {\n",
       "        vertical-align: middle;\n",
       "    }\n",
       "\n",
       "    .dataframe tbody tr th {\n",
       "        vertical-align: top;\n",
       "    }\n",
       "\n",
       "    .dataframe thead th {\n",
       "        text-align: right;\n",
       "    }\n",
       "</style>\n",
       "<table border=\"1\" class=\"dataframe\">\n",
       "  <thead>\n",
       "    <tr style=\"text-align: right;\">\n",
       "      <th></th>\n",
       "      <th>NIMI</th>\n",
       "      <th>Shape_STAr</th>\n",
       "      <th>Shape_STLe</th>\n",
       "      <th>geometry</th>\n",
       "    </tr>\n",
       "  </thead>\n",
       "  <tbody>\n",
       "    <tr>\n",
       "      <th>0</th>\n",
       "      <td>Variku</td>\n",
       "      <td>7.604877e+05</td>\n",
       "      <td>4834.921083</td>\n",
       "      <td>POLYGON ((657744.279 6470571.597, 657726.661 6...</td>\n",
       "    </tr>\n",
       "    <tr>\n",
       "      <th>1</th>\n",
       "      <td>Ropka</td>\n",
       "      <td>1.442172e+06</td>\n",
       "      <td>7924.956724</td>\n",
       "      <td>POLYGON ((660405.404 6472113.542, 660422.277 6...</td>\n",
       "    </tr>\n",
       "    <tr>\n",
       "      <th>2</th>\n",
       "      <td>Vaksali</td>\n",
       "      <td>6.654457e+05</td>\n",
       "      <td>5366.126655</td>\n",
       "      <td>POLYGON ((659247.518 6472085.466, 659197.240 6...</td>\n",
       "    </tr>\n",
       "    <tr>\n",
       "      <th>3</th>\n",
       "      <td>Karlova</td>\n",
       "      <td>2.292635e+06</td>\n",
       "      <td>6247.290134</td>\n",
       "      <td>POLYGON ((659217.520 6473250.669, 659234.870 6...</td>\n",
       "    </tr>\n",
       "    <tr>\n",
       "      <th>4</th>\n",
       "      <td>Tähtvere</td>\n",
       "      <td>2.499984e+06</td>\n",
       "      <td>7181.314925</td>\n",
       "      <td>POLYGON ((658749.680 6474556.989, 658744.566 6...</td>\n",
       "    </tr>\n",
       "  </tbody>\n",
       "</table>\n",
       "</div>"
      ],
      "text/plain": [
       "       NIMI    Shape_STAr   Shape_STLe  \\\n",
       "0    Variku  7.604877e+05  4834.921083   \n",
       "1     Ropka  1.442172e+06  7924.956724   \n",
       "2   Vaksali  6.654457e+05  5366.126655   \n",
       "3   Karlova  2.292635e+06  6247.290134   \n",
       "4  Tähtvere  2.499984e+06  7181.314925   \n",
       "\n",
       "                                            geometry  \n",
       "0  POLYGON ((657744.279 6470571.597, 657726.661 6...  \n",
       "1  POLYGON ((660405.404 6472113.542, 660422.277 6...  \n",
       "2  POLYGON ((659247.518 6472085.466, 659197.240 6...  \n",
       "3  POLYGON ((659217.520 6473250.669, 659234.870 6...  \n",
       "4  POLYGON ((658749.680 6474556.989, 658744.566 6...  "
      ]
     },
     "execution_count": 134,
     "metadata": {},
     "output_type": "execute_result"
    }
   ],
   "source": [
    "linnaosad.head()"
   ]
  },
  {
   "cell_type": "code",
   "execution_count": 135,
   "metadata": {},
   "outputs": [],
   "source": [
    "linnaosad[\"NIMI\"] = linnaosad[\"NIMI\"].replace([\"Annelinna\",\"Kesklinna\",\"Supilinna\", \"Tammelinna\", \"Ränilinna\"],[\"Annelinn\", \"Kesklinn\", \"Supilinn\", \"Tammelinn\", \"Ränilinn\"])"
   ]
  },
  {
   "cell_type": "code",
   "execution_count": 136,
   "metadata": {},
   "outputs": [],
   "source": [
    "pop_map_data = linnaosad.join(population_data.set_index(\"NIMI\"), on=\"NIMI\")"
   ]
  },
  {
   "cell_type": "code",
   "execution_count": 198,
   "metadata": {},
   "outputs": [
    {
     "data": {
      "text/plain": [
       "[]"
      ]
     },
     "execution_count": 198,
     "metadata": {},
     "output_type": "execute_result"
    },
    {
     "data": {
      "image/png": "[encoded data removed]",
      "text/plain": [
       "<Figure size 432x288 with 2 Axes>"
      ]
     },
     "metadata": {
      "needs_background": "light"
     },
     "output_type": "display_data"
    }
   ],
   "source": [
    "from mpl_toolkits.axes_grid1 import make_axes_locatable\n",
    "fig, ax = plt.subplots(1, 1)\n",
    "divider = make_axes_locatable(ax)\n",
    "cax = divider.append_axes(\"bottom\", size=\"5%\", pad=0.1)\n",
    "pop_map_data.plot(column = \"bolt_users\", ax=ax, legend=True, cax=cax, legend_kwds={'label': \"Number of Bolt Users by District\", 'orientation': \"horizontal\"}, cmap=\"winter_r\")\n",
    "ax.set_xticks([])\n",
    "ax.set_yticks([])"
   ]
  },
  {
   "cell_type": "code",
   "execution_count": 201,
   "metadata": {},
   "outputs": [
    {
     "data": {
      "text/plain": [
       "[]"
      ]
     },
     "execution_count": 201,
     "metadata": {},
     "output_type": "execute_result"
    },
    {
     "data": {
      "image/png": "[encoded data removed]",
      "text/plain": [
       "<Figure size 432x288 with 2 Axes>"
      ]
     },
     "metadata": {
      "needs_background": "light"
     },
     "output_type": "display_data"
    }
   ],
   "source": [
    "fig, ax = plt.subplots(1, 1)\n",
    "divider = make_axes_locatable(ax)\n",
    "cax = divider.append_axes(\"bottom\", size=\"5%\", pad=0.1)\n",
    "pop_map_data.plot(column = \"bolt_users_share\", ax=ax, cax=cax, legend=True, legend_kwds={'label': \"Bolt Users' Share by District, %\", 'orientation': \"horizontal\"}, cmap=\"winter_r\")\n",
    "ax.set_xticks([])\n",
    "ax.set_yticks([])"
   ]
  },
  {
   "cell_type": "code",
   "execution_count": 202,
   "metadata": {},
   "outputs": [
    {
     "data": {
      "text/plain": [
       "[]"
      ]
     },
     "execution_count": 202,
     "metadata": {},
     "output_type": "execute_result"
    },
    {
     "data": {
      "image/png": "[encoded data removed]",
      "text/plain": [
       "<Figure size 432x288 with 2 Axes>"
      ]
     },
     "metadata": {
      "needs_background": "light"
     },
     "output_type": "display_data"
    }
   ],
   "source": [
    "fig, ax = plt.subplots(1, 1)\n",
    "divider = make_axes_locatable(ax)\n",
    "cax = divider.append_axes(\"bottom\", size=\"5%\", pad=0.1)\n",
    "pop_map_data.plot(column = \"users_total_share\", ax=ax, cax=cax, legend=True, legend_kwds={'label': \"Number of Real and Predicted Users' Share by District, %\", 'orientation': \"horizontal\"}, cmap=\"winter_r\")\n",
    "ax.set_xticks([])\n",
    "ax.set_yticks([])"
   ]
  },
  {
   "cell_type": "code",
   "execution_count": 196,
   "metadata": {},
   "outputs": [
    {
     "data": {
      "text/plain": [
       "[]"
      ]
     },
     "execution_count": 196,
     "metadata": {},
     "output_type": "execute_result"
    },
    {
     "data": {
      "image/png": "[encoded data removed]",
      "text/plain": [
       "<Figure size 432x288 with 2 Axes>"
      ]
     },
     "metadata": {
      "needs_background": "light"
     },
     "output_type": "display_data"
    }
   ],
   "source": [
    "fig, ax = plt.subplots(1, 1)\n",
    "divider = make_axes_locatable(ax)\n",
    "cax = divider.append_axes(\"bottom\", size=\"5%\", pad=0.1)\n",
    "pop_map_data.plot(column = \"potential_growth_perc\", ax=ax, cax=cax, legend=True, legend_kwds={'label': \"Estimated Growth Potential by District, %\", 'orientation': \"horizontal\"}, cmap=\"winter_r\")\n",
    "ax.set_xticks([])\n",
    "ax.set_yticks([])"
   ]
  },
  {
   "cell_type": "code",
   "execution_count": 205,
   "metadata": {},
   "outputs": [
    {
     "data": {
      "text/plain": [
       "[]"
      ]
     },
     "execution_count": 205,
     "metadata": {},
     "output_type": "execute_result"
    },
    {
     "data": {
      "image/png": "[encoded data removed]",
      "text/plain": [
       "<Figure size 432x288 with 2 Axes>"
      ]
     },
     "metadata": {
      "needs_background": "light"
     },
     "output_type": "display_data"
    }
   ],
   "source": [
    "fig, ax = plt.subplots(1, 1)\n",
    "divider = make_axes_locatable(ax)\n",
    "cax = divider.append_axes(\"bottom\", size=\"5%\", pad=0.1)\n",
    "pop_map_data.plot(column = \"potential_growth_abs\", ax=ax, cax=cax, legend=True, legend_kwds={'label': \"Estimated Growth Potential by District, Number of New Users\", 'orientation': \"horizontal\"}, cmap=\"winter_r\")\n",
    "ax.set_xticks([])\n",
    "ax.set_yticks([])"
   ]
  },
  {
   "cell_type": "code",
   "execution_count": 206,
   "metadata": {},
   "outputs": [
    {
     "data": {
      "text/plain": [
       "[]"
      ]
     },
     "execution_count": 206,
     "metadata": {},
     "output_type": "execute_result"
    },
    {
     "data": {
      "image/png": "[encoded data removed]",
      "text/plain": [
       "<Figure size 432x288 with 2 Axes>"
      ]
     },
     "metadata": {
      "needs_background": "light"
     },
     "output_type": "display_data"
    }
   ],
   "source": [
    "fig, ax = plt.subplots(1, 1)\n",
    "divider = make_axes_locatable(ax)\n",
    "cax = divider.append_axes(\"bottom\", size=\"5%\", pad=0.1)\n",
    "pop_map_data.plot(column = \"population\", ax=ax, cax=cax, legend=True, legend_kwds={'label': \"Population of Tartu by District\", 'orientation': \"horizontal\"}, cmap=\"winter_r\")\n",
    "ax.set_xticks([])\n",
    "ax.set_yticks([])"
   ]
  },
  {
   "cell_type": "code",
   "execution_count": 221,
   "metadata": {},
   "outputs": [
    {
     "data": {
      "text/plain": [
       "(642853.1200049997, 664711.439895001, 6467726.074500001, 6483492.055500002)"
      ]
     },
     "execution_count": 221,
     "metadata": {},
     "output_type": "execute_result"
    },
    {
     "data": {
      "image/png": "[encoded data removed]",
      "text/plain": [
       "<Figure size 432x288 with 1 Axes>"
      ]
     },
     "metadata": {
      "needs_background": "light"
     },
     "output_type": "display_data"
    }
   ],
   "source": [
    "pop_map_data.boundary.plot()\n",
    "plt.axis(\"off\")"
   ]
  },
  {
   "cell_type": "code",
   "execution_count": null,
   "metadata": {},
   "outputs": [],
   "source": []
  }
 ],
 "metadata": {
  "kernelspec": {
   "display_name": "Python 3",
   "language": "python",
   "name": "python3"
  },
  "language_info": {
   "codemirror_mode": {
    "name": "ipython",
    "version": 3
   },
   "file_extension": ".py",
   "mimetype": "text/x-python",
   "name": "python",
   "nbconvert_exporter": "python",
   "pygments_lexer": "ipython3",
   "version": "3.9.0"
  }
 },
 "nbformat": 4,
 "nbformat_minor": 4
}
